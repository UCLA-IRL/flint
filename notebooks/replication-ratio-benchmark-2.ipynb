{
 "cells": [
  {
   "metadata": {},
   "cell_type": "markdown",
   "source": "# Data Availability (Replication) Microbenchmark",
   "id": "74cea469ac7bbd12"
  },
  {
   "cell_type": "code",
   "id": "initial_id",
   "metadata": {
    "collapsed": true,
    "ExecuteTime": {
     "end_time": "2025-03-15T22:14:09.231926Z",
     "start_time": "2025-03-15T22:14:09.106792Z"
    }
   },
   "source": [
    "# Move one directory up, so we are in the repository root\n",
    "import os\n",
    "\n",
    "if not 'CHDIR_EXECUTED' in globals():  # Keep chdir idempotent, don't keep going up\n",
    "    os.chdir('..')\n",
    "    CHDIR_EXECUTED = True\n",
    "    \n",
    "!basename \"$(pwd)\""
   ],
   "outputs": [
    {
     "name": "stdout",
     "output_type": "stream",
     "text": [
      "ndn-compute\r\n"
     ]
    }
   ],
   "execution_count": 1
  },
  {
   "metadata": {
    "ExecuteTime": {
     "end_time": "2025-03-15T22:14:09.236527Z",
     "start_time": "2025-03-15T22:14:09.233071Z"
    }
   },
   "cell_type": "code",
   "source": [
    "import time\n",
    "from functools import wraps\n",
    "from typing import Callable, TypeVar, Any\n",
    "\n",
    "T = TypeVar('T')\n",
    "\n",
    "def time_function(func: Callable[..., T]) -> Callable[..., tuple[T, float]]:\n",
    "    @wraps(func)\n",
    "    def wrapper(*args, **kwargs) -> tuple[T, float]:\n",
    "        start_time = time.time()\n",
    "        result = func(*args, **kwargs)\n",
    "        end_time = time.time()\n",
    "        \n",
    "        print(f\"{func.__name__} executed in {end_time - start_time:.6f} seconds\")\n",
    "        return result, (end_time - start_time)\n",
    "    \n",
    "    return wrapper\n",
    "\n",
    "import contextlib\n",
    "import sys\n",
    "\n",
    "class DummyFile(object):\n",
    "    def write(self, x): pass\n",
    "\n",
    "# Credit: https://stackoverflow.com/a/2829036\n",
    "@contextlib.contextmanager\n",
    "def no_stdout():\n",
    "    save_stdout = sys.stdout\n",
    "    sys.stdout = DummyFile()\n",
    "    yield\n",
    "    sys.stdout = save_stdout"
   ],
   "id": "a15814d33cb8ac34",
   "outputs": [],
   "execution_count": 2
  },
  {
   "metadata": {
    "ExecuteTime": {
     "end_time": "2025-03-15T22:14:09.449665Z",
     "start_time": "2025-03-15T22:14:09.237421Z"
    }
   },
   "cell_type": "code",
   "source": [
    "from ndn_compute_fs_creator import create_fs_from_directory\n",
    "from ndn_compute_cluster_manager import run_ndn_compute_cluster, stop_ndn_compute_cluster\n",
    "from ndn_compute_client import NdnComputeClient"
   ],
   "id": "10f19afb14baf4f4",
   "outputs": [],
   "execution_count": 3
  },
  {
   "metadata": {
    "ExecuteTime": {
     "end_time": "2025-03-15T22:14:09.453064Z",
     "start_time": "2025-03-15T22:14:09.450908Z"
    }
   },
   "cell_type": "code",
   "source": [
    "@time_function\n",
    "def do_compute(client):\n",
    "    dataset = client.create_dataset(\"appA/events.log.jsonl\")\n",
    "    pred = lambda row: row['event_type'] == 'purchase' and row['device'] == 'tablet' and row['browser'] == 'safari'\n",
    "    dataset.filter(pred).collect()"
   ],
   "id": "e4d582b38a1dcc32",
   "outputs": [],
   "execution_count": 4
  },
  {
   "metadata": {
    "ExecuteTime": {
     "end_time": "2025-03-15T22:20:50.951487Z",
     "start_time": "2025-03-15T22:14:09.453732Z"
    }
   },
   "cell_type": "code",
   "source": [
    "compute_times = list()\n",
    "\n",
    "for num_copies in range(1, 8+1):\n",
    "    !rm -rf generated_data/distributed\n",
    "    !mkdir -p generated_data/distributed\n",
    "    create_fs_from_directory(in_dir=\"generated_data/flat\",\n",
    "                             out_dir=\"generated_data/distributed\",\n",
    "                             num_partitions=16,\n",
    "                             num_copies=num_copies,\n",
    "                             chunk_size=32\n",
    "                             )\n",
    "    \n",
    "    # not sure why docker desktop is freaking out about mounting :(\n",
    "    print(\"Restarting Docker...\")\n",
    "    !docker desktop restart > /dev/null\n",
    "    \n",
    "    print(\"Creating containers...\")\n",
    "    with no_stdout():\n",
    "        run_ndn_compute_cluster(num_workers=16, rebuild=False)\n",
    "    \n",
    "    client = NdnComputeClient('http://localhost:5214')\n",
    "    result = do_compute(client)\n",
    "    compute_times.append(result[1])"
   ],
   "id": "a50d2ece3ba22ae3",
   "outputs": [
    {
     "name": "stdout",
     "output_type": "stream",
     "text": [
      "generated_data/flat/appA/events.log.jsonl\n",
      "Restarting Docker...\n",
      "Creating containers...\n",
      "do_compute executed in 4.466535 seconds\n",
      "generated_data/flat/appA/events.log.jsonl\n",
      "Restarting Docker...\n",
      "Creating containers...\n",
      "do_compute executed in 2.636674 seconds\n",
      "generated_data/flat/appA/events.log.jsonl\n",
      "Restarting Docker...\n",
      "Creating containers...\n",
      "do_compute executed in 3.441089 seconds\n",
      "generated_data/flat/appA/events.log.jsonl\n",
      "Restarting Docker...\n",
      "Creating containers...\n",
      "do_compute executed in 3.854837 seconds\n",
      "generated_data/flat/appA/events.log.jsonl\n",
      "Restarting Docker...\n",
      "Creating containers...\n",
      "do_compute executed in 6.298819 seconds\n",
      "generated_data/flat/appA/events.log.jsonl\n",
      "Restarting Docker...\n",
      "Creating containers...\n",
      "do_compute executed in 3.956015 seconds\n",
      "generated_data/flat/appA/events.log.jsonl\n",
      "Restarting Docker...\n",
      "Creating containers...\n",
      "do_compute executed in 3.763629 seconds\n",
      "generated_data/flat/appA/events.log.jsonl\n",
      "Restarting Docker...\n",
      "Creating containers...\n",
      "do_compute executed in 6.343022 seconds\n"
     ]
    }
   ],
   "execution_count": 5
  },
  {
   "metadata": {
    "ExecuteTime": {
     "end_time": "2025-03-15T22:20:50.956546Z",
     "start_time": "2025-03-15T22:20:50.952577Z"
    }
   },
   "cell_type": "code",
   "source": "compute_times",
   "id": "55bdfc120b05b55b",
   "outputs": [
    {
     "data": {
      "text/plain": [
       "[4.4665350914001465,\n",
       " 2.636674165725708,\n",
       " 3.441088914871216,\n",
       " 3.854836940765381,\n",
       " 6.298819065093994,\n",
       " 3.956015110015869,\n",
       " 3.7636289596557617,\n",
       " 6.343022108078003]"
      ]
     },
     "execution_count": 6,
     "metadata": {},
     "output_type": "execute_result"
    }
   ],
   "execution_count": 6
  },
  {
   "metadata": {
    "ExecuteTime": {
     "end_time": "2025-03-15T22:22:36.083184Z",
     "start_time": "2025-03-15T22:22:36.079309Z"
    }
   },
   "cell_type": "code",
   "source": [
    "@time_function\n",
    "def do_compute_2(client):\n",
    "    dataset = client.create_dataset(\"appA/events.log.jsonl\")\n",
    "    big_op = dataset.transform(lambda df: df.apply(lambda row: sum([__import__(\"math\").sin(__import__(\"random\").random()) * __import__(\"math\").cos(__import__(\"random\").random()) for _ in range(333)]), axis=1))\n",
    "    lens = big_op.map(lambda r: len(str(r)))\n",
    "    lens.collect()"
   ],
   "id": "8f33d668df76496c",
   "outputs": [],
   "execution_count": 7
  },
  {
   "metadata": {
    "ExecuteTime": {
     "end_time": "2025-03-15T22:30:31.610015Z",
     "start_time": "2025-03-15T22:23:33.476794Z"
    }
   },
   "cell_type": "code",
   "source": [
    "compute_times_2 = list()\n",
    "\n",
    "for num_copies in range(1, 8+1):\n",
    "    !rm -rf generated_data/distributed\n",
    "    !mkdir -p generated_data/distributed\n",
    "    create_fs_from_directory(in_dir=\"generated_data/flat\",\n",
    "                             out_dir=\"generated_data/distributed\",\n",
    "                             num_partitions=16,\n",
    "                             num_copies=num_copies,\n",
    "                             chunk_size=32\n",
    "                             )\n",
    "    \n",
    "    # not sure why docker desktop is freaking out about mounting :(\n",
    "    print(\"Restarting Docker...\")\n",
    "    !docker desktop restart > /dev/null\n",
    "    \n",
    "    print(\"Creating containers...\")\n",
    "    with no_stdout():\n",
    "        run_ndn_compute_cluster(num_workers=16, rebuild=False)\n",
    "    \n",
    "    client = NdnComputeClient('http://localhost:5214')\n",
    "    result = do_compute_2(client)\n",
    "    compute_times_2.append(result[1])"
   ],
   "id": "a22a5d9250a00703",
   "outputs": [
    {
     "name": "stdout",
     "output_type": "stream",
     "text": [
      "generated_data/flat/appA/events.log.jsonl\n",
      "Restarting Docker...\n",
      "Creating containers...\n",
      "do_compute_2 executed in 26.333024 seconds\n",
      "generated_data/flat/appA/events.log.jsonl\n",
      "Restarting Docker...\n",
      "Creating containers...\n",
      "do_compute_2 executed in 26.328101 seconds\n",
      "generated_data/flat/appA/events.log.jsonl\n",
      "Restarting Docker...\n",
      "Creating containers...\n",
      "do_compute_2 executed in 16.343083 seconds\n",
      "generated_data/flat/appA/events.log.jsonl\n",
      "Restarting Docker...\n",
      "Creating containers...\n",
      "do_compute_2 executed in 14.333760 seconds\n",
      "generated_data/flat/appA/events.log.jsonl\n",
      "Restarting Docker...\n",
      "Creating containers...\n"
     ]
    },
    {
     "ename": "Fault",
     "evalue": "<Fault 1: \"<class 'Exception'>:fetch_segments failed, exhausted attempts to fetch the first segment\">",
     "output_type": "error",
     "traceback": [
      "\u001B[0;31m---------------------------------------------------------------------------\u001B[0m",
      "\u001B[0;31mFault\u001B[0m                                     Traceback (most recent call last)",
      "Cell \u001B[0;32mIn[8], line 22\u001B[0m\n\u001B[1;32m     19\u001B[0m     run_ndn_compute_cluster(num_workers\u001B[38;5;241m=\u001B[39m\u001B[38;5;241m16\u001B[39m, rebuild\u001B[38;5;241m=\u001B[39m\u001B[38;5;28;01mFalse\u001B[39;00m)\n\u001B[1;32m     21\u001B[0m client \u001B[38;5;241m=\u001B[39m NdnComputeClient(\u001B[38;5;124m'\u001B[39m\u001B[38;5;124mhttp://localhost:5214\u001B[39m\u001B[38;5;124m'\u001B[39m)\n\u001B[0;32m---> 22\u001B[0m result \u001B[38;5;241m=\u001B[39m \u001B[43mdo_compute_2\u001B[49m\u001B[43m(\u001B[49m\u001B[43mclient\u001B[49m\u001B[43m)\u001B[49m\n\u001B[1;32m     23\u001B[0m compute_times_2\u001B[38;5;241m.\u001B[39mappend(result[\u001B[38;5;241m1\u001B[39m])\n",
      "Cell \u001B[0;32mIn[2], line 11\u001B[0m, in \u001B[0;36mtime_function.<locals>.wrapper\u001B[0;34m(*args, **kwargs)\u001B[0m\n\u001B[1;32m      8\u001B[0m \u001B[38;5;129m@wraps\u001B[39m(func)\n\u001B[1;32m      9\u001B[0m \u001B[38;5;28;01mdef\u001B[39;00m\u001B[38;5;250m \u001B[39m\u001B[38;5;21mwrapper\u001B[39m(\u001B[38;5;241m*\u001B[39margs, \u001B[38;5;241m*\u001B[39m\u001B[38;5;241m*\u001B[39mkwargs) \u001B[38;5;241m-\u001B[39m\u001B[38;5;241m>\u001B[39m \u001B[38;5;28mtuple\u001B[39m[T, \u001B[38;5;28mfloat\u001B[39m]:\n\u001B[1;32m     10\u001B[0m     start_time \u001B[38;5;241m=\u001B[39m time\u001B[38;5;241m.\u001B[39mtime()\n\u001B[0;32m---> 11\u001B[0m     result \u001B[38;5;241m=\u001B[39m \u001B[43mfunc\u001B[49m\u001B[43m(\u001B[49m\u001B[38;5;241;43m*\u001B[39;49m\u001B[43margs\u001B[49m\u001B[43m,\u001B[49m\u001B[43m \u001B[49m\u001B[38;5;241;43m*\u001B[39;49m\u001B[38;5;241;43m*\u001B[39;49m\u001B[43mkwargs\u001B[49m\u001B[43m)\u001B[49m\n\u001B[1;32m     12\u001B[0m     end_time \u001B[38;5;241m=\u001B[39m time\u001B[38;5;241m.\u001B[39mtime()\n\u001B[1;32m     14\u001B[0m     \u001B[38;5;28mprint\u001B[39m(\u001B[38;5;124mf\u001B[39m\u001B[38;5;124m\"\u001B[39m\u001B[38;5;132;01m{\u001B[39;00mfunc\u001B[38;5;241m.\u001B[39m\u001B[38;5;18m__name__\u001B[39m\u001B[38;5;132;01m}\u001B[39;00m\u001B[38;5;124m executed in \u001B[39m\u001B[38;5;132;01m{\u001B[39;00mend_time\u001B[38;5;250m \u001B[39m\u001B[38;5;241m-\u001B[39m\u001B[38;5;250m \u001B[39mstart_time\u001B[38;5;132;01m:\u001B[39;00m\u001B[38;5;124m.6f\u001B[39m\u001B[38;5;132;01m}\u001B[39;00m\u001B[38;5;124m seconds\u001B[39m\u001B[38;5;124m\"\u001B[39m)\n",
      "Cell \u001B[0;32mIn[7], line 6\u001B[0m, in \u001B[0;36mdo_compute_2\u001B[0;34m(client)\u001B[0m\n\u001B[1;32m      4\u001B[0m big_op \u001B[38;5;241m=\u001B[39m dataset\u001B[38;5;241m.\u001B[39mtransform(\u001B[38;5;28;01mlambda\u001B[39;00m df: df\u001B[38;5;241m.\u001B[39mapply(\u001B[38;5;28;01mlambda\u001B[39;00m row: \u001B[38;5;28msum\u001B[39m([\u001B[38;5;28m__import__\u001B[39m(\u001B[38;5;124m\"\u001B[39m\u001B[38;5;124mmath\u001B[39m\u001B[38;5;124m\"\u001B[39m)\u001B[38;5;241m.\u001B[39msin(\u001B[38;5;28m__import__\u001B[39m(\u001B[38;5;124m\"\u001B[39m\u001B[38;5;124mrandom\u001B[39m\u001B[38;5;124m\"\u001B[39m)\u001B[38;5;241m.\u001B[39mrandom()) \u001B[38;5;241m*\u001B[39m \u001B[38;5;28m__import__\u001B[39m(\u001B[38;5;124m\"\u001B[39m\u001B[38;5;124mmath\u001B[39m\u001B[38;5;124m\"\u001B[39m)\u001B[38;5;241m.\u001B[39mcos(\u001B[38;5;28m__import__\u001B[39m(\u001B[38;5;124m\"\u001B[39m\u001B[38;5;124mrandom\u001B[39m\u001B[38;5;124m\"\u001B[39m)\u001B[38;5;241m.\u001B[39mrandom()) \u001B[38;5;28;01mfor\u001B[39;00m _ \u001B[38;5;129;01min\u001B[39;00m \u001B[38;5;28mrange\u001B[39m(\u001B[38;5;241m333\u001B[39m)]), axis\u001B[38;5;241m=\u001B[39m\u001B[38;5;241m1\u001B[39m))\n\u001B[1;32m      5\u001B[0m lens \u001B[38;5;241m=\u001B[39m big_op\u001B[38;5;241m.\u001B[39mmap(\u001B[38;5;28;01mlambda\u001B[39;00m r: \u001B[38;5;28mlen\u001B[39m(\u001B[38;5;28mstr\u001B[39m(r)))\n\u001B[0;32m----> 6\u001B[0m \u001B[43mlens\u001B[49m\u001B[38;5;241;43m.\u001B[39;49m\u001B[43mcollect\u001B[49m\u001B[43m(\u001B[49m\u001B[43m)\u001B[49m\n",
      "File \u001B[0;32m~/Documents/2025 Winter/COM SCI 214/ndn-compute/pkg/ndn_compute/ndn_compute_client/ndn_compute_client.py:163\u001B[0m, in \u001B[0;36mNdnComputeClient.create_dataset.<locals>.Dataset.collect\u001B[0;34m(self)\u001B[0m\n\u001B[1;32m    162\u001B[0m \u001B[38;5;28;01mdef\u001B[39;00m\u001B[38;5;250m \u001B[39m\u001B[38;5;21mcollect\u001B[39m(\u001B[38;5;28mself\u001B[39m) \u001B[38;5;241m-\u001B[39m\u001B[38;5;241m>\u001B[39m pd\u001B[38;5;241m.\u001B[39mDataFrame:\n\u001B[0;32m--> 163\u001B[0m     b \u001B[38;5;241m=\u001B[39m \u001B[38;5;28;43mself\u001B[39;49m\u001B[38;5;241;43m.\u001B[39;49m\u001B[43m_client\u001B[49m\u001B[38;5;241;43m.\u001B[39;49m\u001B[43mproxy\u001B[49m\u001B[38;5;241;43m.\u001B[39;49m\u001B[43mcollect\u001B[49m\u001B[43m(\u001B[49m\u001B[38;5;28;43mself\u001B[39;49m\u001B[38;5;241;43m.\u001B[39;49m\u001B[43m_path\u001B[49m\u001B[43m,\u001B[49m\u001B[43m \u001B[49m\u001B[38;5;28;43mself\u001B[39;49m\u001B[38;5;241;43m.\u001B[39;49m\u001B[43m_transformations\u001B[49m\u001B[43m)\u001B[49m\n\u001B[1;32m    164\u001B[0m     \u001B[38;5;28;01mreturn\u001B[39;00m pd\u001B[38;5;241m.\u001B[39mread_json(BytesIO(b), lines\u001B[38;5;241m=\u001B[39m\u001B[38;5;28;01mTrue\u001B[39;00m)\n",
      "File \u001B[0;32m/Library/Frameworks/Python.framework/Versions/3.11/lib/python3.11/xmlrpc/client.py:1122\u001B[0m, in \u001B[0;36m_Method.__call__\u001B[0;34m(self, *args)\u001B[0m\n\u001B[1;32m   1121\u001B[0m \u001B[38;5;28;01mdef\u001B[39;00m\u001B[38;5;250m \u001B[39m\u001B[38;5;21m__call__\u001B[39m(\u001B[38;5;28mself\u001B[39m, \u001B[38;5;241m*\u001B[39margs):\n\u001B[0;32m-> 1122\u001B[0m     \u001B[38;5;28;01mreturn\u001B[39;00m \u001B[38;5;28;43mself\u001B[39;49m\u001B[38;5;241;43m.\u001B[39;49m\u001B[43m__send\u001B[49m\u001B[43m(\u001B[49m\u001B[38;5;28;43mself\u001B[39;49m\u001B[38;5;241;43m.\u001B[39;49m\u001B[43m__name\u001B[49m\u001B[43m,\u001B[49m\u001B[43m \u001B[49m\u001B[43margs\u001B[49m\u001B[43m)\u001B[49m\n",
      "File \u001B[0;32m/Library/Frameworks/Python.framework/Versions/3.11/lib/python3.11/xmlrpc/client.py:1464\u001B[0m, in \u001B[0;36mServerProxy.__request\u001B[0;34m(self, methodname, params)\u001B[0m\n\u001B[1;32m   1458\u001B[0m \u001B[38;5;28;01mdef\u001B[39;00m\u001B[38;5;250m \u001B[39m\u001B[38;5;21m__request\u001B[39m(\u001B[38;5;28mself\u001B[39m, methodname, params):\n\u001B[1;32m   1459\u001B[0m     \u001B[38;5;66;03m# call a method on the remote server\u001B[39;00m\n\u001B[1;32m   1461\u001B[0m     request \u001B[38;5;241m=\u001B[39m dumps(params, methodname, encoding\u001B[38;5;241m=\u001B[39m\u001B[38;5;28mself\u001B[39m\u001B[38;5;241m.\u001B[39m__encoding,\n\u001B[1;32m   1462\u001B[0m                     allow_none\u001B[38;5;241m=\u001B[39m\u001B[38;5;28mself\u001B[39m\u001B[38;5;241m.\u001B[39m__allow_none)\u001B[38;5;241m.\u001B[39mencode(\u001B[38;5;28mself\u001B[39m\u001B[38;5;241m.\u001B[39m__encoding, \u001B[38;5;124m'\u001B[39m\u001B[38;5;124mxmlcharrefreplace\u001B[39m\u001B[38;5;124m'\u001B[39m)\n\u001B[0;32m-> 1464\u001B[0m     response \u001B[38;5;241m=\u001B[39m \u001B[38;5;28;43mself\u001B[39;49m\u001B[38;5;241;43m.\u001B[39;49m\u001B[43m__transport\u001B[49m\u001B[38;5;241;43m.\u001B[39;49m\u001B[43mrequest\u001B[49m\u001B[43m(\u001B[49m\n\u001B[1;32m   1465\u001B[0m \u001B[43m        \u001B[49m\u001B[38;5;28;43mself\u001B[39;49m\u001B[38;5;241;43m.\u001B[39;49m\u001B[43m__host\u001B[49m\u001B[43m,\u001B[49m\n\u001B[1;32m   1466\u001B[0m \u001B[43m        \u001B[49m\u001B[38;5;28;43mself\u001B[39;49m\u001B[38;5;241;43m.\u001B[39;49m\u001B[43m__handler\u001B[49m\u001B[43m,\u001B[49m\n\u001B[1;32m   1467\u001B[0m \u001B[43m        \u001B[49m\u001B[43mrequest\u001B[49m\u001B[43m,\u001B[49m\n\u001B[1;32m   1468\u001B[0m \u001B[43m        \u001B[49m\u001B[43mverbose\u001B[49m\u001B[38;5;241;43m=\u001B[39;49m\u001B[38;5;28;43mself\u001B[39;49m\u001B[38;5;241;43m.\u001B[39;49m\u001B[43m__verbose\u001B[49m\n\u001B[1;32m   1469\u001B[0m \u001B[43m        \u001B[49m\u001B[43m)\u001B[49m\n\u001B[1;32m   1471\u001B[0m     \u001B[38;5;28;01mif\u001B[39;00m \u001B[38;5;28mlen\u001B[39m(response) \u001B[38;5;241m==\u001B[39m \u001B[38;5;241m1\u001B[39m:\n\u001B[1;32m   1472\u001B[0m         response \u001B[38;5;241m=\u001B[39m response[\u001B[38;5;241m0\u001B[39m]\n",
      "File \u001B[0;32m/Library/Frameworks/Python.framework/Versions/3.11/lib/python3.11/xmlrpc/client.py:1166\u001B[0m, in \u001B[0;36mTransport.request\u001B[0;34m(self, host, handler, request_body, verbose)\u001B[0m\n\u001B[1;32m   1164\u001B[0m \u001B[38;5;28;01mfor\u001B[39;00m i \u001B[38;5;129;01min\u001B[39;00m (\u001B[38;5;241m0\u001B[39m, \u001B[38;5;241m1\u001B[39m):\n\u001B[1;32m   1165\u001B[0m     \u001B[38;5;28;01mtry\u001B[39;00m:\n\u001B[0;32m-> 1166\u001B[0m         \u001B[38;5;28;01mreturn\u001B[39;00m \u001B[38;5;28;43mself\u001B[39;49m\u001B[38;5;241;43m.\u001B[39;49m\u001B[43msingle_request\u001B[49m\u001B[43m(\u001B[49m\u001B[43mhost\u001B[49m\u001B[43m,\u001B[49m\u001B[43m \u001B[49m\u001B[43mhandler\u001B[49m\u001B[43m,\u001B[49m\u001B[43m \u001B[49m\u001B[43mrequest_body\u001B[49m\u001B[43m,\u001B[49m\u001B[43m \u001B[49m\u001B[43mverbose\u001B[49m\u001B[43m)\u001B[49m\n\u001B[1;32m   1167\u001B[0m     \u001B[38;5;28;01mexcept\u001B[39;00m http\u001B[38;5;241m.\u001B[39mclient\u001B[38;5;241m.\u001B[39mRemoteDisconnected:\n\u001B[1;32m   1168\u001B[0m         \u001B[38;5;28;01mif\u001B[39;00m i:\n",
      "File \u001B[0;32m/Library/Frameworks/Python.framework/Versions/3.11/lib/python3.11/xmlrpc/client.py:1182\u001B[0m, in \u001B[0;36mTransport.single_request\u001B[0;34m(self, host, handler, request_body, verbose)\u001B[0m\n\u001B[1;32m   1180\u001B[0m     \u001B[38;5;28;01mif\u001B[39;00m resp\u001B[38;5;241m.\u001B[39mstatus \u001B[38;5;241m==\u001B[39m \u001B[38;5;241m200\u001B[39m:\n\u001B[1;32m   1181\u001B[0m         \u001B[38;5;28mself\u001B[39m\u001B[38;5;241m.\u001B[39mverbose \u001B[38;5;241m=\u001B[39m verbose\n\u001B[0;32m-> 1182\u001B[0m         \u001B[38;5;28;01mreturn\u001B[39;00m \u001B[38;5;28;43mself\u001B[39;49m\u001B[38;5;241;43m.\u001B[39;49m\u001B[43mparse_response\u001B[49m\u001B[43m(\u001B[49m\u001B[43mresp\u001B[49m\u001B[43m)\u001B[49m\n\u001B[1;32m   1184\u001B[0m \u001B[38;5;28;01mexcept\u001B[39;00m Fault:\n\u001B[1;32m   1185\u001B[0m     \u001B[38;5;28;01mraise\u001B[39;00m\n",
      "File \u001B[0;32m/Library/Frameworks/Python.framework/Versions/3.11/lib/python3.11/xmlrpc/client.py:1354\u001B[0m, in \u001B[0;36mTransport.parse_response\u001B[0;34m(self, response)\u001B[0m\n\u001B[1;32m   1351\u001B[0m     stream\u001B[38;5;241m.\u001B[39mclose()\n\u001B[1;32m   1352\u001B[0m p\u001B[38;5;241m.\u001B[39mclose()\n\u001B[0;32m-> 1354\u001B[0m \u001B[38;5;28;01mreturn\u001B[39;00m \u001B[43mu\u001B[49m\u001B[38;5;241;43m.\u001B[39;49m\u001B[43mclose\u001B[49m\u001B[43m(\u001B[49m\u001B[43m)\u001B[49m\n",
      "File \u001B[0;32m/Library/Frameworks/Python.framework/Versions/3.11/lib/python3.11/xmlrpc/client.py:668\u001B[0m, in \u001B[0;36mUnmarshaller.close\u001B[0;34m(self)\u001B[0m\n\u001B[1;32m    666\u001B[0m     \u001B[38;5;28;01mraise\u001B[39;00m ResponseError()\n\u001B[1;32m    667\u001B[0m \u001B[38;5;28;01mif\u001B[39;00m \u001B[38;5;28mself\u001B[39m\u001B[38;5;241m.\u001B[39m_type \u001B[38;5;241m==\u001B[39m \u001B[38;5;124m\"\u001B[39m\u001B[38;5;124mfault\u001B[39m\u001B[38;5;124m\"\u001B[39m:\n\u001B[0;32m--> 668\u001B[0m     \u001B[38;5;28;01mraise\u001B[39;00m Fault(\u001B[38;5;241m*\u001B[39m\u001B[38;5;241m*\u001B[39m\u001B[38;5;28mself\u001B[39m\u001B[38;5;241m.\u001B[39m_stack[\u001B[38;5;241m0\u001B[39m])\n\u001B[1;32m    669\u001B[0m \u001B[38;5;28;01mreturn\u001B[39;00m \u001B[38;5;28mtuple\u001B[39m(\u001B[38;5;28mself\u001B[39m\u001B[38;5;241m.\u001B[39m_stack)\n",
      "\u001B[0;31mFault\u001B[0m: <Fault 1: \"<class 'Exception'>:fetch_segments failed, exhausted attempts to fetch the first segment\">"
     ]
    }
   ],
   "execution_count": 8
  },
  {
   "metadata": {},
   "cell_type": "code",
   "outputs": [],
   "execution_count": null,
   "source": "compute_times_2",
   "id": "b9683964149eb609"
  }
 ],
 "metadata": {
  "kernelspec": {
   "display_name": "Python 3",
   "language": "python",
   "name": "python3"
  },
  "language_info": {
   "codemirror_mode": {
    "name": "ipython",
    "version": 2
   },
   "file_extension": ".py",
   "mimetype": "text/x-python",
   "name": "python",
   "nbconvert_exporter": "python",
   "pygments_lexer": "ipython2",
   "version": "2.7.6"
  }
 },
 "nbformat": 4,
 "nbformat_minor": 5
}

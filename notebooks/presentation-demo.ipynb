{
 "cells": [
  {
   "metadata": {},
   "cell_type": "markdown",
   "source": [
    "# ndn-compute Demo\n",
    "\n",
    "### Step 1: Initialize a client \n",
    "(assuming the cluster is up)"
   ],
   "id": "e1f6f07d7e3a5dd5"
  },
  {
   "cell_type": "code",
   "id": "initial_id",
   "metadata": {
    "collapsed": true,
    "ExecuteTime": {
     "end_time": "2025-03-12T21:03:04.541382Z",
     "start_time": "2025-03-12T21:03:04.280602Z"
    }
   },
   "source": [
    "from ndn_compute_client import NdnComputeClient\n",
    "client = NdnComputeClient('http://localhost:5214')"
   ],
   "outputs": [],
   "execution_count": 1
  },
  {
   "metadata": {},
   "cell_type": "markdown",
   "source": [
    "### Step 2: Obtain the dataset\n",
    "\n",
    "#### 1 million lines of logs of an e-commerce site"
   ],
   "id": "bbf13664254e69ca"
  },
  {
   "metadata": {
    "ExecuteTime": {
     "end_time": "2025-03-12T21:03:05.007813Z",
     "start_time": "2025-03-12T21:03:05.005170Z"
    }
   },
   "cell_type": "code",
   "source": "dataset = client.create_dataset(\"appB/events.log.jsonl\")",
   "id": "a6889dd8249add70",
   "outputs": [],
   "execution_count": 2
  },
  {
   "metadata": {},
   "cell_type": "markdown",
   "source": [
    "### Step 3: Transform the dataset\n",
    "#### Show purchases made on an iPad only"
   ],
   "id": "93997dc98109d9c0"
  },
  {
   "metadata": {
    "ExecuteTime": {
     "end_time": "2025-03-12T21:03:05.659669Z",
     "start_time": "2025-03-12T21:03:05.623179Z"
    }
   },
   "cell_type": "code",
   "source": [
    "pred = lambda row: row['event_type'] == 'purchase' and row['device'] == 'tablet' and row['browser'] == 'safari'\n",
    "ipad_purchases = dataset.filter(pred)"
   ],
   "id": "12f1d87157bae584",
   "outputs": [],
   "execution_count": 3
  },
  {
   "metadata": {
    "ExecuteTime": {
     "end_time": "2025-03-12T21:03:19.320726Z",
     "start_time": "2025-03-12T21:03:06.700508Z"
    }
   },
   "cell_type": "code",
   "source": "ipad_purchases.collect().head()",
   "id": "b3faa6d441d6131",
   "outputs": [
    {
     "data": {
      "text/plain": [
       "                 id               timestamp   user_id event_type  device  \\\n",
       "0  SJ4pOPr6MJIjPbVW 2024-04-30 16:38:42.701  8IgVthq7   purchase  tablet   \n",
       "1  tryk1tLK1L0krcSG 2024-12-19 16:38:42.703  iTl4HFp0   purchase  tablet   \n",
       "2  WWwDFPubXDrB8gQ7 2024-10-17 16:38:42.703  thgUyh9g   purchase  tablet   \n",
       "3  gBJ3FgDRMtdCwLRR 2024-07-24 16:38:42.706  DcjXeWME   purchase  tablet   \n",
       "4  DnQxtLPtzf9t4aPq 2024-03-08 16:38:42.706  bEdrEKEC   purchase  tablet   \n",
       "\n",
       "  browser                                           location  \\\n",
       "0  safari  {'country': 'JP', 'city': 'Tokyo', 'latitude':...   \n",
       "1  safari  {'country': 'JP', 'city': 'New York', 'latitud...   \n",
       "2  safari  {'country': 'JP', 'city': 'Paris', 'latitude':...   \n",
       "3  safari  {'country': 'FR', 'city': 'Sydney', 'latitude'...   \n",
       "4  safari  {'country': 'FR', 'city': 'London', 'latitude'...   \n",
       "\n",
       "   session_duration                                           metadata  \n",
       "0              3297  {'platform_version': '8.7.4', 'user_agent': 'J...  \n",
       "1               326  {'platform_version': '1.8.2', 'user_agent': 'b...  \n",
       "2              2179  {'platform_version': '10.4.4', 'user_agent': '...  \n",
       "3               361  {'platform_version': '4.2.4', 'user_agent': 'l...  \n",
       "4              3019  {'platform_version': '5.9.6', 'user_agent': 'l...  "
      ],
      "text/html": [
       "<div>\n",
       "<style scoped>\n",
       "    .dataframe tbody tr th:only-of-type {\n",
       "        vertical-align: middle;\n",
       "    }\n",
       "\n",
       "    .dataframe tbody tr th {\n",
       "        vertical-align: top;\n",
       "    }\n",
       "\n",
       "    .dataframe thead th {\n",
       "        text-align: right;\n",
       "    }\n",
       "</style>\n",
       "<table border=\"1\" class=\"dataframe\">\n",
       "  <thead>\n",
       "    <tr style=\"text-align: right;\">\n",
       "      <th></th>\n",
       "      <th>id</th>\n",
       "      <th>timestamp</th>\n",
       "      <th>user_id</th>\n",
       "      <th>event_type</th>\n",
       "      <th>device</th>\n",
       "      <th>browser</th>\n",
       "      <th>location</th>\n",
       "      <th>session_duration</th>\n",
       "      <th>metadata</th>\n",
       "    </tr>\n",
       "  </thead>\n",
       "  <tbody>\n",
       "    <tr>\n",
       "      <th>0</th>\n",
       "      <td>SJ4pOPr6MJIjPbVW</td>\n",
       "      <td>2024-04-30 16:38:42.701</td>\n",
       "      <td>8IgVthq7</td>\n",
       "      <td>purchase</td>\n",
       "      <td>tablet</td>\n",
       "      <td>safari</td>\n",
       "      <td>{'country': 'JP', 'city': 'Tokyo', 'latitude':...</td>\n",
       "      <td>3297</td>\n",
       "      <td>{'platform_version': '8.7.4', 'user_agent': 'J...</td>\n",
       "    </tr>\n",
       "    <tr>\n",
       "      <th>1</th>\n",
       "      <td>tryk1tLK1L0krcSG</td>\n",
       "      <td>2024-12-19 16:38:42.703</td>\n",
       "      <td>iTl4HFp0</td>\n",
       "      <td>purchase</td>\n",
       "      <td>tablet</td>\n",
       "      <td>safari</td>\n",
       "      <td>{'country': 'JP', 'city': 'New York', 'latitud...</td>\n",
       "      <td>326</td>\n",
       "      <td>{'platform_version': '1.8.2', 'user_agent': 'b...</td>\n",
       "    </tr>\n",
       "    <tr>\n",
       "      <th>2</th>\n",
       "      <td>WWwDFPubXDrB8gQ7</td>\n",
       "      <td>2024-10-17 16:38:42.703</td>\n",
       "      <td>thgUyh9g</td>\n",
       "      <td>purchase</td>\n",
       "      <td>tablet</td>\n",
       "      <td>safari</td>\n",
       "      <td>{'country': 'JP', 'city': 'Paris', 'latitude':...</td>\n",
       "      <td>2179</td>\n",
       "      <td>{'platform_version': '10.4.4', 'user_agent': '...</td>\n",
       "    </tr>\n",
       "    <tr>\n",
       "      <th>3</th>\n",
       "      <td>gBJ3FgDRMtdCwLRR</td>\n",
       "      <td>2024-07-24 16:38:42.706</td>\n",
       "      <td>DcjXeWME</td>\n",
       "      <td>purchase</td>\n",
       "      <td>tablet</td>\n",
       "      <td>safari</td>\n",
       "      <td>{'country': 'FR', 'city': 'Sydney', 'latitude'...</td>\n",
       "      <td>361</td>\n",
       "      <td>{'platform_version': '4.2.4', 'user_agent': 'l...</td>\n",
       "    </tr>\n",
       "    <tr>\n",
       "      <th>4</th>\n",
       "      <td>DnQxtLPtzf9t4aPq</td>\n",
       "      <td>2024-03-08 16:38:42.706</td>\n",
       "      <td>bEdrEKEC</td>\n",
       "      <td>purchase</td>\n",
       "      <td>tablet</td>\n",
       "      <td>safari</td>\n",
       "      <td>{'country': 'FR', 'city': 'London', 'latitude'...</td>\n",
       "      <td>3019</td>\n",
       "      <td>{'platform_version': '5.9.6', 'user_agent': 'l...</td>\n",
       "    </tr>\n",
       "  </tbody>\n",
       "</table>\n",
       "</div>"
      ]
     },
     "execution_count": 4,
     "metadata": {},
     "output_type": "execute_result"
    }
   ],
   "execution_count": 4
  },
  {
   "metadata": {},
   "cell_type": "markdown",
   "source": [
    "### Step 4: Add a subsequent transformations to the lineage\n",
    "#### Use ipad_purchases as a fork-point in the lineage"
   ],
   "id": "4be25e73aa755fc7"
  },
  {
   "metadata": {
    "ExecuteTime": {
     "end_time": "2025-03-12T21:03:22.889910Z",
     "start_time": "2025-03-12T21:03:22.851690Z"
    }
   },
   "cell_type": "code",
   "source": [
    "duration_minutes = ipad_purchases.transform(lambda df: df[['session_duration']].transform(lambda x: x / 60.0))\n",
    "duration_hours = ipad_purchases.transform(lambda df: df[['session_duration']].transform(lambda x: x / 3600.0))"
   ],
   "id": "f36d1fd4abce589f",
   "outputs": [],
   "execution_count": 5
  },
  {
   "metadata": {
    "ExecuteTime": {
     "end_time": "2025-03-12T21:03:32.460621Z",
     "start_time": "2025-03-12T21:03:31.179384Z"
    }
   },
   "cell_type": "code",
   "source": "duration_minutes.collect().head()",
   "id": "ebb8ad552687f3f8",
   "outputs": [
    {
     "data": {
      "text/plain": [
       "   session_duration\n",
       "0         54.950000\n",
       "1          5.433333\n",
       "2         36.316667\n",
       "3          6.016667\n",
       "4         50.316667"
      ],
      "text/html": [
       "<div>\n",
       "<style scoped>\n",
       "    .dataframe tbody tr th:only-of-type {\n",
       "        vertical-align: middle;\n",
       "    }\n",
       "\n",
       "    .dataframe tbody tr th {\n",
       "        vertical-align: top;\n",
       "    }\n",
       "\n",
       "    .dataframe thead th {\n",
       "        text-align: right;\n",
       "    }\n",
       "</style>\n",
       "<table border=\"1\" class=\"dataframe\">\n",
       "  <thead>\n",
       "    <tr style=\"text-align: right;\">\n",
       "      <th></th>\n",
       "      <th>session_duration</th>\n",
       "    </tr>\n",
       "  </thead>\n",
       "  <tbody>\n",
       "    <tr>\n",
       "      <th>0</th>\n",
       "      <td>54.950000</td>\n",
       "    </tr>\n",
       "    <tr>\n",
       "      <th>1</th>\n",
       "      <td>5.433333</td>\n",
       "    </tr>\n",
       "    <tr>\n",
       "      <th>2</th>\n",
       "      <td>36.316667</td>\n",
       "    </tr>\n",
       "    <tr>\n",
       "      <th>3</th>\n",
       "      <td>6.016667</td>\n",
       "    </tr>\n",
       "    <tr>\n",
       "      <th>4</th>\n",
       "      <td>50.316667</td>\n",
       "    </tr>\n",
       "  </tbody>\n",
       "</table>\n",
       "</div>"
      ]
     },
     "execution_count": 6,
     "metadata": {},
     "output_type": "execute_result"
    }
   ],
   "execution_count": 6
  },
  {
   "metadata": {
    "ExecuteTime": {
     "end_time": "2025-03-12T21:03:39.791019Z",
     "start_time": "2025-03-12T21:03:38.528505Z"
    }
   },
   "cell_type": "code",
   "source": "duration_hours.collect().head()",
   "id": "956801f62d420ce2",
   "outputs": [
    {
     "data": {
      "text/plain": [
       "   session_duration\n",
       "0          0.915833\n",
       "1          0.090556\n",
       "2          0.605278\n",
       "3          0.100278\n",
       "4          0.838611"
      ],
      "text/html": [
       "<div>\n",
       "<style scoped>\n",
       "    .dataframe tbody tr th:only-of-type {\n",
       "        vertical-align: middle;\n",
       "    }\n",
       "\n",
       "    .dataframe tbody tr th {\n",
       "        vertical-align: top;\n",
       "    }\n",
       "\n",
       "    .dataframe thead th {\n",
       "        text-align: right;\n",
       "    }\n",
       "</style>\n",
       "<table border=\"1\" class=\"dataframe\">\n",
       "  <thead>\n",
       "    <tr style=\"text-align: right;\">\n",
       "      <th></th>\n",
       "      <th>session_duration</th>\n",
       "    </tr>\n",
       "  </thead>\n",
       "  <tbody>\n",
       "    <tr>\n",
       "      <th>0</th>\n",
       "      <td>0.915833</td>\n",
       "    </tr>\n",
       "    <tr>\n",
       "      <th>1</th>\n",
       "      <td>0.090556</td>\n",
       "    </tr>\n",
       "    <tr>\n",
       "      <th>2</th>\n",
       "      <td>0.605278</td>\n",
       "    </tr>\n",
       "    <tr>\n",
       "      <th>3</th>\n",
       "      <td>0.100278</td>\n",
       "    </tr>\n",
       "    <tr>\n",
       "      <th>4</th>\n",
       "      <td>0.838611</td>\n",
       "    </tr>\n",
       "  </tbody>\n",
       "</table>\n",
       "</div>"
      ]
     },
     "execution_count": 7,
     "metadata": {},
     "output_type": "execute_result"
    }
   ],
   "execution_count": 7
  },
  {
   "metadata": {},
   "cell_type": "code",
   "outputs": [],
   "execution_count": null,
   "source": "",
   "id": "5b877128eaaa8141"
  }
 ],
 "metadata": {
  "kernelspec": {
   "display_name": "Python 3",
   "language": "python",
   "name": "python3"
  },
  "language_info": {
   "codemirror_mode": {
    "name": "ipython",
    "version": 2
   },
   "file_extension": ".py",
   "mimetype": "text/x-python",
   "name": "python",
   "nbconvert_exporter": "python",
   "pygments_lexer": "ipython2",
   "version": "2.7.6"
  }
 },
 "nbformat": 4,
 "nbformat_minor": 5
}

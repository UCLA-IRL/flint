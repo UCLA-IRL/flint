{
 "cells": [
  {
   "metadata": {},
   "cell_type": "markdown",
   "source": [
    "# Getting Started \n",
    "with the NDN Distributed Processing Engine\n",
    "\n",
    "Note: you may want to run this in a venv or Conda environment.\n",
    "\n",
    "### Get Dependencies"
   ],
   "id": "e1ca757d35dedd75"
  },
  {
   "metadata": {
    "ExecuteTime": {
     "end_time": "2025-03-04T00:38:26.728895Z",
     "start_time": "2025-03-04T00:38:26.515710Z"
    }
   },
   "cell_type": "code",
   "source": [
    "# Get submodules\n",
    "!git submodule update --init --recursive"
   ],
   "id": "f1da9626ad207b2d",
   "outputs": [],
   "execution_count": 1
  },
  {
   "metadata": {},
   "cell_type": "markdown",
   "source": "Note: Installing local packages should automatically install pip dependencies such as `python-ndn`. ",
   "id": "76bb492902e70975"
  },
  {
   "metadata": {
    "ExecuteTime": {
     "end_time": "2025-03-04T00:38:28.537938Z",
     "start_time": "2025-03-04T00:38:28.412407Z"
    }
   },
   "cell_type": "code",
   "source": [
    "# Install packages\n",
    "!cd ..; for dir in ./pkg/*/; do [ -d \"$dir\" ] && pip install --find-links=./pkg -e \"$dir\"; done"
   ],
   "id": "465df2cc7a1a6c26",
   "outputs": [],
   "execution_count": 2
  },
  {
   "metadata": {},
   "cell_type": "markdown",
   "source": "### Security Setup",
   "id": "95e205616fc86f7a"
  },
  {
   "metadata": {
    "ExecuteTime": {
     "end_time": "2025-03-04T00:38:30.196364Z",
     "start_time": "2025-03-04T00:38:30.090828Z"
    }
   },
   "cell_type": "code",
   "source": [
    "import os\n",
    "import shutil\n",
    "from ndn_compute_key_creator import create_keys\n",
    "\n",
    "if any(not os.path.isdir(f'../sec_data/{dir}') for dir in ['certs', 'driver', 'worker']):\n",
    "    if os.path.isdir('../sec_data'):\n",
    "        shutil.rmtree('../sec_data')\n",
    "        \n",
    "    create_keys()"
   ],
   "id": "7f7172c3a2722764",
   "outputs": [],
   "execution_count": 3
  },
  {
   "metadata": {},
   "cell_type": "markdown",
   "source": "### Generate Data",
   "id": "4173ef2ffc91d9e0"
  },
  {
   "metadata": {
    "ExecuteTime": {
     "end_time": "2025-03-04T00:38:31.884378Z",
     "start_time": "2025-03-04T00:38:31.879490Z"
    }
   },
   "cell_type": "code",
   "source": [
    "from ndn_compute_jsonl_generator import generate_large_jsonl\n",
    "from ndn_compute_fs_creator import create_fs_from_directory"
   ],
   "id": "406bd355603879b1",
   "outputs": [],
   "execution_count": 4
  },
  {
   "metadata": {
    "ExecuteTime": {
     "end_time": "2025-03-04T00:39:02.268028Z",
     "start_time": "2025-03-04T00:38:34.827594Z"
    }
   },
   "cell_type": "code",
   "source": [
    "# Generate flat files\n",
    "!mkdir -p ../generated_data/flat/appA\n",
    "!mkdir -p ../generated_data/flat/appB\n",
    "\n",
    "generate_large_jsonl(filename='../generated_data/flat/appA/events.log.jsonl', target_size_mb=200)\n",
    "generate_large_jsonl(filename='../generated_data/flat/appB/events.log.jsonl', target_size_mb=500)"
   ],
   "id": "762c89a07241883a",
   "outputs": [
    {
     "name": "stdout",
     "output_type": "stream",
     "text": [
      "Generating JSONL file of approximately 200MB...\n",
      "Progress: 22.76% complete\n",
      "Records written: 100,000\n",
      "Current file size: 45.51MB\n",
      "Progress: 45.51% complete\n",
      "Records written: 200,000\n",
      "Current file size: 91.03MB\n",
      "Progress: 68.27% complete\n",
      "Records written: 300,000\n",
      "Current file size: 136.55MB\n",
      "Progress: 91.03% complete\n",
      "Records written: 400,000\n",
      "Current file size: 182.06MB\n",
      "\n",
      "File generation complete!\n",
      "Final file size: 200.01MB\n",
      "Total records written: 439,417\n",
      "Generating JSONL file of approximately 500MB...\n",
      "Progress: 9.10% complete\n",
      "Records written: 100,000\n",
      "Current file size: 45.51MB\n",
      "Progress: 18.21% complete\n",
      "Records written: 200,000\n",
      "Current file size: 91.03MB\n",
      "Progress: 27.31% complete\n",
      "Records written: 300,000\n",
      "Current file size: 136.55MB\n",
      "Progress: 36.41% complete\n",
      "Records written: 400,000\n",
      "Current file size: 182.06MB\n",
      "Progress: 45.51% complete\n",
      "Records written: 500,000\n",
      "Current file size: 227.57MB\n",
      "Progress: 54.62% complete\n",
      "Records written: 600,000\n",
      "Current file size: 273.10MB\n",
      "Progress: 63.72% complete\n",
      "Records written: 700,000\n",
      "Current file size: 318.61MB\n",
      "Progress: 72.82% complete\n",
      "Records written: 800,000\n",
      "Current file size: 364.12MB\n",
      "Progress: 81.93% complete\n",
      "Records written: 900,000\n",
      "Current file size: 409.64MB\n",
      "Progress: 91.03% complete\n",
      "Records written: 1,000,000\n",
      "Current file size: 455.16MB\n",
      "\n",
      "File generation complete!\n",
      "Final file size: 500.00MB\n",
      "Total records written: 1,098,524\n"
     ]
    }
   ],
   "execution_count": 5
  },
  {
   "metadata": {
    "ExecuteTime": {
     "end_time": "2025-03-04T00:39:19.793829Z",
     "start_time": "2025-03-04T00:39:18.141095Z"
    }
   },
   "cell_type": "code",
   "source": [
    "# Distribute files into a toy distributed filesystem\n",
    "\n",
    "!mkdir -p ../generated_data/distributed\n",
    "create_fs_from_directory(in_dir=\"../generated_data/flat\",\n",
    "                         out_dir=\"../generated_data/distributed\",\n",
    "                         num_partitions=2,\n",
    "                         num_copies=1,\n",
    "                         chunk_size=64\n",
    "                         )"
   ],
   "id": "9ec63cc9551ba5c3",
   "outputs": [
    {
     "name": "stdout",
     "output_type": "stream",
     "text": [
      "../generated_data/flat/appB/events.log.jsonl\n",
      "../generated_data/flat/appA/events.log.jsonl\n"
     ]
    }
   ],
   "execution_count": 6
  },
  {
   "metadata": {},
   "cell_type": "markdown",
   "source": [
    "### Starting the cluster\n",
    "\n",
    "Please run `docker-compose up` in another terminal (from the `ndn-compute` repository root) so that you can see the stdout output in the foreground."
   ],
   "id": "40ce85dca7a8a19"
  },
  {
   "metadata": {
    "ExecuteTime": {
     "end_time": "2025-03-04T00:39:36.268228Z",
     "start_time": "2025-03-04T00:39:36.101359Z"
    }
   },
   "cell_type": "code",
   "source": [
    "# !docker-compose up\n",
    "\n",
    "# Make sure your cluster is running\n",
    "!docker-compose ps"
   ],
   "id": "db5b3783ae93e503",
   "outputs": [
    {
     "name": "stdout",
     "output_type": "stream",
     "text": [
      "NAME      IMAGE                 COMMAND                  SERVICE   CREATED          STATUS         PORTS\r\n",
      "driver1   ndn-compute-driver    \"python -m ndn_compu…\"   driver    19 minutes ago   Up 5 seconds   0.0.0.0:5214->5214/tcp\r\n",
      "nfd1      ndn-compute-nfd       \"/usr/bin/nfd --conf…\"   nfd       27 minutes ago   Up 5 seconds   6363/tcp, 9696/tcp, 6363/udp\r\n",
      "worker1   ndn-compute-worker1   \"python -m ndn_compu…\"   worker1   19 minutes ago   Up 5 seconds   \r\n",
      "worker2   ndn-compute-worker2   \"python -m ndn_compu…\"   worker2   19 minutes ago   Up 5 seconds   \r\n"
     ]
    }
   ],
   "execution_count": 7
  },
  {
   "metadata": {},
   "cell_type": "markdown",
   "source": "IMPORTANT: You should see a driver, NFD, and worker(s) up",
   "id": "49ecd798b281e09f"
  },
  {
   "metadata": {},
   "cell_type": "markdown",
   "source": "### Using the engine",
   "id": "1a26af33e91beac8"
  },
  {
   "metadata": {
    "ExecuteTime": {
     "end_time": "2025-03-04T00:39:49.262499Z",
     "start_time": "2025-03-04T00:39:48.901698Z"
    }
   },
   "cell_type": "code",
   "source": "from ndn_compute_client import NdnComputeClient",
   "id": "6261d125969cc0ed",
   "outputs": [],
   "execution_count": 8
  },
  {
   "metadata": {
    "ExecuteTime": {
     "end_time": "2025-03-04T00:39:53.054338Z",
     "start_time": "2025-03-04T00:39:53.051993Z"
    }
   },
   "cell_type": "code",
   "source": "client = NdnComputeClient('http://localhost:5214')",
   "id": "4ba0ab7e3ddcd29c",
   "outputs": [],
   "execution_count": 9
  },
  {
   "metadata": {
    "ExecuteTime": {
     "end_time": "2025-03-04T00:39:56.362206Z",
     "start_time": "2025-03-04T00:39:56.344165Z"
    }
   },
   "cell_type": "code",
   "source": [
    "# Trivial test to make sure driver and worker are talking to each other\n",
    "client.add(8, 9)"
   ],
   "id": "4a034411bd48714e",
   "outputs": [
    {
     "data": {
      "text/plain": [
       "17"
      ]
     },
     "execution_count": 10,
     "metadata": {},
     "output_type": "execute_result"
    }
   ],
   "execution_count": 10
  },
  {
   "metadata": {
    "ExecuteTime": {
     "end_time": "2025-03-04T00:40:44.895093Z",
     "start_time": "2025-03-04T00:40:07.595398Z"
    }
   },
   "cell_type": "code",
   "source": [
    "# Test to make sure result store and large transfers are working\n",
    "import zlib\n",
    "random_bytes = client.urandom() # This may take a while\n",
    "print(zlib.crc32(random_bytes)) # Does it match what was computed worker-side? (See docker logs)"
   ],
   "id": "ca54d79494f88c01",
   "outputs": [
    {
     "name": "stdout",
     "output_type": "stream",
     "text": [
      "3233379982\n"
     ]
    }
   ],
   "execution_count": 11
  },
  {
   "metadata": {
    "ExecuteTime": {
     "end_time": "2025-03-04T00:40:51.335270Z",
     "start_time": "2025-03-04T00:40:51.333310Z"
    }
   },
   "cell_type": "code",
   "source": "# TODO: write the code then show people how to actually process data",
   "id": "f3579e29894fdb29",
   "outputs": [],
   "execution_count": 12
  }
 ],
 "metadata": {
  "kernelspec": {
   "display_name": "Python 3",
   "language": "python",
   "name": "python3"
  },
  "language_info": {
   "codemirror_mode": {
    "name": "ipython",
    "version": 2
   },
   "file_extension": ".py",
   "mimetype": "text/x-python",
   "name": "python",
   "nbconvert_exporter": "python",
   "pygments_lexer": "ipython2",
   "version": "2.7.6"
  }
 },
 "nbformat": 4,
 "nbformat_minor": 5
}

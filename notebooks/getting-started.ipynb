{
 "cells": [
  {
   "cell_type": "markdown",
   "id": "e1ca757d35dedd75",
   "metadata": {},
   "source": [
    "# Getting Started \n",
    "with the NDN Distributed Processing Engine\n",
    "\n",
    "Note: you may want to run this in a venv or Conda environment.\n",
    "\n",
    "### Get Dependencies"
   ]
  },
  {
   "metadata": {
    "ExecuteTime": {
     "end_time": "2025-03-15T18:29:08.362569Z",
     "start_time": "2025-03-15T18:29:08.238730Z"
    }
   },
   "cell_type": "code",
   "source": [
    "# Move one directory up, so we are in the repository root\n",
    "import os\n",
    "\n",
    "if not 'CHDIR_EXECUTED' in globals():  # Keep chdir idempotent, don't keep going up\n",
    "    os.chdir('..')\n",
    "    CHDIR_EXECUTED = True\n",
    "    \n",
    "!basename \"$(pwd)\""
   ],
   "id": "3bdda7c1256c66a",
   "outputs": [
    {
     "name": "stdout",
     "output_type": "stream",
     "text": [
      "ndn-compute\r\n"
     ]
    }
   ],
   "execution_count": 1
  },
  {
   "cell_type": "code",
   "id": "f1da9626ad207b2d",
   "metadata": {
    "ExecuteTime": {
     "end_time": "2025-03-15T18:29:08.582123Z",
     "start_time": "2025-03-15T18:29:08.364073Z"
    }
   },
   "source": [
    "# Get submodules\n",
    "!git submodule update --init --recursive"
   ],
   "outputs": [],
   "execution_count": 2
  },
  {
   "cell_type": "markdown",
   "id": "76bb492902e70975",
   "metadata": {},
   "source": [
    "Note: Installing local packages should automatically install pip dependencies such as `python-ndn`. "
   ]
  },
  {
   "cell_type": "code",
   "id": "465df2cc7a1a6c26",
   "metadata": {
    "ExecuteTime": {
     "end_time": "2025-03-15T18:29:11.368813Z",
     "start_time": "2025-03-15T18:29:08.583212Z"
    }
   },
   "source": [
    "# Install packages\n",
    "!bash -c 'for dir in ./pkg/*/; do [ -d \"$dir\" ] && pip install --find-links=./pkg \"$dir\"; done'"
   ],
   "outputs": [
    {
     "name": "stdout",
     "output_type": "stream",
     "text": [
      "Looking in links: ./pkg\r\n",
      "Processing ./pkg/ndn_compute\r\n",
      "  Preparing metadata (setup.py) ... \u001B[?25ldone\r\n",
      "\u001B[?25hRequirement already satisfied: python-ndn==0.5.0 in ./venv/lib/python3.11/site-packages (from ndn-compute==0.1) (0.5.0)\r\n",
      "Requirement already satisfied: nest-asyncio==1.6.0 in ./venv/lib/python3.11/site-packages (from ndn-compute==0.1) (1.6.0)\r\n",
      "Requirement already satisfied: dill==0.3.9 in ./venv/lib/python3.11/site-packages (from ndn-compute==0.1) (0.3.9)\r\n",
      "Requirement already satisfied: pandas==2.2.3 in ./venv/lib/python3.11/site-packages (from ndn-compute==0.1) (2.2.3)\r\n",
      "Requirement already satisfied: numpy>=1.23.2 in ./venv/lib/python3.11/site-packages (from pandas==2.2.3->ndn-compute==0.1) (2.2.3)\r\n",
      "Requirement already satisfied: python-dateutil>=2.8.2 in ./venv/lib/python3.11/site-packages (from pandas==2.2.3->ndn-compute==0.1) (2.9.0.post0)\r\n",
      "Requirement already satisfied: pytz>=2020.1 in ./venv/lib/python3.11/site-packages (from pandas==2.2.3->ndn-compute==0.1) (2025.1)\r\n",
      "Requirement already satisfied: tzdata>=2022.7 in ./venv/lib/python3.11/site-packages (from pandas==2.2.3->ndn-compute==0.1) (2025.1)\r\n",
      "Requirement already satisfied: aenum<4.0.0,>=3.1.15 in ./venv/lib/python3.11/site-packages (from python-ndn==0.5.0->ndn-compute==0.1) (3.1.15)\r\n",
      "Requirement already satisfied: aiohttp<4.0.0,>=3.10.9 in ./venv/lib/python3.11/site-packages (from python-ndn==0.5.0->ndn-compute==0.1) (3.11.12)\r\n",
      "Requirement already satisfied: lark<2.0.0,>=1.2.2 in ./venv/lib/python3.11/site-packages (from python-ndn==0.5.0->ndn-compute==0.1) (1.2.2)\r\n",
      "Requirement already satisfied: pycryptodomex<4.0.0,>=3.21.0 in ./venv/lib/python3.11/site-packages (from python-ndn==0.5.0->ndn-compute==0.1) (3.21.0)\r\n",
      "Requirement already satisfied: pygtrie<3.0.0,>=2.5.0 in ./venv/lib/python3.11/site-packages (from python-ndn==0.5.0->ndn-compute==0.1) (2.5.0)\r\n",
      "Requirement already satisfied: aiohappyeyeballs>=2.3.0 in ./venv/lib/python3.11/site-packages (from aiohttp<4.0.0,>=3.10.9->python-ndn==0.5.0->ndn-compute==0.1) (2.4.6)\r\n",
      "Requirement already satisfied: aiosignal>=1.1.2 in ./venv/lib/python3.11/site-packages (from aiohttp<4.0.0,>=3.10.9->python-ndn==0.5.0->ndn-compute==0.1) (1.3.2)\r\n",
      "Requirement already satisfied: attrs>=17.3.0 in ./venv/lib/python3.11/site-packages (from aiohttp<4.0.0,>=3.10.9->python-ndn==0.5.0->ndn-compute==0.1) (25.1.0)\r\n",
      "Requirement already satisfied: frozenlist>=1.1.1 in ./venv/lib/python3.11/site-packages (from aiohttp<4.0.0,>=3.10.9->python-ndn==0.5.0->ndn-compute==0.1) (1.5.0)\r\n",
      "Requirement already satisfied: multidict<7.0,>=4.5 in ./venv/lib/python3.11/site-packages (from aiohttp<4.0.0,>=3.10.9->python-ndn==0.5.0->ndn-compute==0.1) (6.1.0)\r\n",
      "Requirement already satisfied: propcache>=0.2.0 in ./venv/lib/python3.11/site-packages (from aiohttp<4.0.0,>=3.10.9->python-ndn==0.5.0->ndn-compute==0.1) (0.2.1)\r\n",
      "Requirement already satisfied: yarl<2.0,>=1.17.0 in ./venv/lib/python3.11/site-packages (from aiohttp<4.0.0,>=3.10.9->python-ndn==0.5.0->ndn-compute==0.1) (1.18.3)\r\n",
      "Requirement already satisfied: six>=1.5 in ./venv/lib/python3.11/site-packages (from python-dateutil>=2.8.2->pandas==2.2.3->ndn-compute==0.1) (1.17.0)\r\n",
      "Requirement already satisfied: idna>=2.0 in ./venv/lib/python3.11/site-packages (from yarl<2.0,>=1.17.0->aiohttp<4.0.0,>=3.10.9->python-ndn==0.5.0->ndn-compute==0.1) (3.10)\r\n",
      "Building wheels for collected packages: ndn-compute\r\n",
      "  Building wheel for ndn-compute (setup.py) ... \u001B[?25ldone\r\n",
      "\u001B[?25h  Created wheel for ndn-compute: filename=ndn_compute-0.1-py3-none-any.whl size=25463 sha256=13f54c93bca3f5b29f5ffdc55808e4a5893b6620f5fc3d0130af9897f26ed90a\r\n",
      "  Stored in directory: /private/var/folders/6j/882zygc542d8hw9xtj9w62c80000gn/T/pip-ephem-wheel-cache-qg6eqwf7/wheels/8a/37/88/91a343e9492df6e624dec040fe83576d55a129326ed5056476\r\n",
      "Successfully built ndn-compute\r\n",
      "Installing collected packages: ndn-compute\r\n",
      "  Attempting uninstall: ndn-compute\r\n",
      "    Found existing installation: ndn-compute 0.1\r\n",
      "    Not uninstalling ndn-compute at /Users/jacob/Documents/2025 Winter/COM SCI 214/ndn-compute/pkg/ndn_compute, outside environment /Users/jacob/Documents/2025 Winter/COM SCI 214/ndn-compute/venv\r\n",
      "    Can't uninstall 'ndn-compute'. No files were found to uninstall.\r\n",
      "Successfully installed ndn-compute-0.1\r\n",
      "\r\n",
      "\u001B[1m[\u001B[0m\u001B[34;49mnotice\u001B[0m\u001B[1;39;49m]\u001B[0m\u001B[39;49m A new release of pip is available: \u001B[0m\u001B[31;49m23.2.1\u001B[0m\u001B[39;49m -> \u001B[0m\u001B[32;49m25.0.1\u001B[0m\r\n",
      "\u001B[1m[\u001B[0m\u001B[34;49mnotice\u001B[0m\u001B[1;39;49m]\u001B[0m\u001B[39;49m To update, run: \u001B[0m\u001B[32;49mpip install --upgrade pip\u001B[0m\r\n",
      "Looking in links: ./pkg\r\n",
      "Processing ./pkg/ndn_compute_util\r\n",
      "  Preparing metadata (setup.py) ... \u001B[?25ldone\r\n",
      "\u001B[?25hRequirement already satisfied: python-ndn==0.5.0 in ./venv/lib/python3.11/site-packages (from ndn-compute-util==0.1) (0.5.0)\r\n",
      "Requirement already satisfied: docker==7.1.0 in ./venv/lib/python3.11/site-packages (from ndn-compute-util==0.1) (7.1.0)\r\n",
      "Requirement already satisfied: requests>=2.26.0 in ./venv/lib/python3.11/site-packages (from docker==7.1.0->ndn-compute-util==0.1) (2.32.3)\r\n",
      "Requirement already satisfied: urllib3>=1.26.0 in ./venv/lib/python3.11/site-packages (from docker==7.1.0->ndn-compute-util==0.1) (2.3.0)\r\n",
      "Requirement already satisfied: aenum<4.0.0,>=3.1.15 in ./venv/lib/python3.11/site-packages (from python-ndn==0.5.0->ndn-compute-util==0.1) (3.1.15)\r\n",
      "Requirement already satisfied: aiohttp<4.0.0,>=3.10.9 in ./venv/lib/python3.11/site-packages (from python-ndn==0.5.0->ndn-compute-util==0.1) (3.11.12)\r\n",
      "Requirement already satisfied: lark<2.0.0,>=1.2.2 in ./venv/lib/python3.11/site-packages (from python-ndn==0.5.0->ndn-compute-util==0.1) (1.2.2)\r\n",
      "Requirement already satisfied: pycryptodomex<4.0.0,>=3.21.0 in ./venv/lib/python3.11/site-packages (from python-ndn==0.5.0->ndn-compute-util==0.1) (3.21.0)\r\n",
      "Requirement already satisfied: pygtrie<3.0.0,>=2.5.0 in ./venv/lib/python3.11/site-packages (from python-ndn==0.5.0->ndn-compute-util==0.1) (2.5.0)\r\n",
      "Requirement already satisfied: aiohappyeyeballs>=2.3.0 in ./venv/lib/python3.11/site-packages (from aiohttp<4.0.0,>=3.10.9->python-ndn==0.5.0->ndn-compute-util==0.1) (2.4.6)\r\n",
      "Requirement already satisfied: aiosignal>=1.1.2 in ./venv/lib/python3.11/site-packages (from aiohttp<4.0.0,>=3.10.9->python-ndn==0.5.0->ndn-compute-util==0.1) (1.3.2)\r\n",
      "Requirement already satisfied: attrs>=17.3.0 in ./venv/lib/python3.11/site-packages (from aiohttp<4.0.0,>=3.10.9->python-ndn==0.5.0->ndn-compute-util==0.1) (25.1.0)\r\n",
      "Requirement already satisfied: frozenlist>=1.1.1 in ./venv/lib/python3.11/site-packages (from aiohttp<4.0.0,>=3.10.9->python-ndn==0.5.0->ndn-compute-util==0.1) (1.5.0)\r\n",
      "Requirement already satisfied: multidict<7.0,>=4.5 in ./venv/lib/python3.11/site-packages (from aiohttp<4.0.0,>=3.10.9->python-ndn==0.5.0->ndn-compute-util==0.1) (6.1.0)\r\n",
      "Requirement already satisfied: propcache>=0.2.0 in ./venv/lib/python3.11/site-packages (from aiohttp<4.0.0,>=3.10.9->python-ndn==0.5.0->ndn-compute-util==0.1) (0.2.1)\r\n",
      "Requirement already satisfied: yarl<2.0,>=1.17.0 in ./venv/lib/python3.11/site-packages (from aiohttp<4.0.0,>=3.10.9->python-ndn==0.5.0->ndn-compute-util==0.1) (1.18.3)\r\n",
      "Requirement already satisfied: charset-normalizer<4,>=2 in ./venv/lib/python3.11/site-packages (from requests>=2.26.0->docker==7.1.0->ndn-compute-util==0.1) (3.4.1)\r\n",
      "Requirement already satisfied: idna<4,>=2.5 in ./venv/lib/python3.11/site-packages (from requests>=2.26.0->docker==7.1.0->ndn-compute-util==0.1) (3.10)\r\n",
      "Requirement already satisfied: certifi>=2017.4.17 in ./venv/lib/python3.11/site-packages (from requests>=2.26.0->docker==7.1.0->ndn-compute-util==0.1) (2025.1.31)\r\n",
      "Building wheels for collected packages: ndn-compute-util\r\n",
      "  Building wheel for ndn-compute-util (setup.py) ... \u001B[?25ldone\r\n",
      "\u001B[?25h  Created wheel for ndn-compute-util: filename=ndn_compute_util-0.1-py3-none-any.whl size=13635 sha256=1354ee1a4faa457d7b3043db34a2b5048f8a2a082c1a72c1bdf16cd708208fe5\r\n",
      "  Stored in directory: /private/var/folders/6j/882zygc542d8hw9xtj9w62c80000gn/T/pip-ephem-wheel-cache-vz9ke5_l/wheels/35/5d/b2/2e5f1e80490d99f7530171452b94a6aa37b0e025a21d15d98e\r\n",
      "Successfully built ndn-compute-util\r\n",
      "Installing collected packages: ndn-compute-util\r\n",
      "  Attempting uninstall: ndn-compute-util\r\n",
      "    Found existing installation: ndn-compute-util 0.1\r\n",
      "    Not uninstalling ndn-compute-util at /Users/jacob/Documents/2025 Winter/COM SCI 214/ndn-compute/pkg/ndn_compute_util, outside environment /Users/jacob/Documents/2025 Winter/COM SCI 214/ndn-compute/venv\r\n",
      "    Can't uninstall 'ndn-compute-util'. No files were found to uninstall.\r\n",
      "Successfully installed ndn-compute-util-0.1\r\n",
      "\r\n",
      "\u001B[1m[\u001B[0m\u001B[34;49mnotice\u001B[0m\u001B[1;39;49m]\u001B[0m\u001B[39;49m A new release of pip is available: \u001B[0m\u001B[31;49m23.2.1\u001B[0m\u001B[39;49m -> \u001B[0m\u001B[32;49m25.0.1\u001B[0m\r\n",
      "\u001B[1m[\u001B[0m\u001B[34;49mnotice\u001B[0m\u001B[1;39;49m]\u001B[0m\u001B[39;49m To update, run: \u001B[0m\u001B[32;49mpip install --upgrade pip\u001B[0m\r\n"
     ]
    }
   ],
   "execution_count": 3
  },
  {
   "metadata": {},
   "cell_type": "markdown",
   "source": "### Cluster Configuration",
   "id": "78f277b4839fd114"
  },
  {
   "metadata": {
    "ExecuteTime": {
     "end_time": "2025-03-15T18:29:11.373120Z",
     "start_time": "2025-03-15T18:29:11.370679Z"
    }
   },
   "cell_type": "code",
   "source": [
    "NUM_WORKERS = 3\n",
    "REPLICATION_FACTOR = 2"
   ],
   "id": "6b133b47fb0d3ba5",
   "outputs": [],
   "execution_count": 4
  },
  {
   "cell_type": "markdown",
   "id": "95e205616fc86f7a",
   "metadata": {},
   "source": [
    "### Security Setup"
   ]
  },
  {
   "cell_type": "code",
   "id": "7f7172c3a2722764",
   "metadata": {
    "ExecuteTime": {
     "end_time": "2025-03-15T18:29:11.458225Z",
     "start_time": "2025-03-15T18:29:11.373974Z"
    }
   },
   "source": [
    "import os\n",
    "import shutil\n",
    "from ndn_compute_key_creator import create_keys\n",
    "\n",
    "if any(not os.path.isdir(f'sec_data/{dir}') for dir in ['certs', 'driver', 'worker']):\n",
    "    if os.path.isdir('sec_data'):\n",
    "        shutil.rmtree('sec_data')\n",
    "        \n",
    "    create_keys('sec_data/')"
   ],
   "outputs": [],
   "execution_count": 5
  },
  {
   "cell_type": "markdown",
   "id": "4173ef2ffc91d9e0",
   "metadata": {},
   "source": [
    "### Generate Data"
   ]
  },
  {
   "cell_type": "code",
   "id": "406bd355603879b1",
   "metadata": {
    "ExecuteTime": {
     "end_time": "2025-03-15T18:29:11.461937Z",
     "start_time": "2025-03-15T18:29:11.458886Z"
    }
   },
   "source": [
    "from ndn_compute_jsonl_generator import generate_large_jsonl\n",
    "from ndn_compute_fs_creator import create_fs_from_directory"
   ],
   "outputs": [],
   "execution_count": 6
  },
  {
   "cell_type": "code",
   "id": "762c89a07241883a",
   "metadata": {
    "ExecuteTime": {
     "end_time": "2025-03-15T18:29:39.154890Z",
     "start_time": "2025-03-15T18:29:11.462617Z"
    }
   },
   "source": [
    "!rm -rf generated_data\n",
    "\n",
    "# Generate flat files\n",
    "!mkdir -p generated_data/flat/appA\n",
    "!mkdir -p generated_data/flat/appB\n",
    "\n",
    "generate_large_jsonl(filename='generated_data/flat/appA/events.log.jsonl', target_size_mb=200)\n",
    "generate_large_jsonl(filename='generated_data/flat/appB/events.log.jsonl', target_size_mb=500)"
   ],
   "outputs": [
    {
     "name": "stdout",
     "output_type": "stream",
     "text": [
      "Generating JSONL file of approximately 200MB...\n",
      "Progress: 22.76% complete\n",
      "Records written: 100,000\n",
      "Current file size: 45.51MB\n",
      "Progress: 45.51% complete\n",
      "Records written: 200,000\n",
      "Current file size: 91.02MB\n",
      "Progress: 68.27% complete\n",
      "Records written: 300,000\n",
      "Current file size: 136.54MB\n",
      "Progress: 91.03% complete\n",
      "Records written: 400,000\n",
      "Current file size: 182.06MB\n",
      "\n",
      "File generation complete!\n",
      "Final file size: 200.00MB\n",
      "Total records written: 439,417\n",
      "Generating JSONL file of approximately 500MB...\n",
      "Progress: 9.10% complete\n",
      "Records written: 100,000\n",
      "Current file size: 45.51MB\n",
      "Progress: 18.21% complete\n",
      "Records written: 200,000\n",
      "Current file size: 91.03MB\n",
      "Progress: 27.31% complete\n",
      "Records written: 300,000\n",
      "Current file size: 136.55MB\n",
      "Progress: 36.41% complete\n",
      "Records written: 400,000\n",
      "Current file size: 182.06MB\n",
      "Progress: 45.51% complete\n",
      "Records written: 500,000\n",
      "Current file size: 227.57MB\n",
      "Progress: 54.62% complete\n",
      "Records written: 600,000\n",
      "Current file size: 273.10MB\n",
      "Progress: 63.72% complete\n",
      "Records written: 700,000\n",
      "Current file size: 318.61MB\n",
      "Progress: 72.82% complete\n",
      "Records written: 800,000\n",
      "Current file size: 364.12MB\n",
      "Progress: 81.93% complete\n",
      "Records written: 900,000\n",
      "Current file size: 409.64MB\n",
      "Progress: 91.03% complete\n",
      "Records written: 1,000,000\n",
      "Current file size: 455.15MB\n",
      "\n",
      "File generation complete!\n",
      "Final file size: 500.00MB\n",
      "Total records written: 1,098,524\n"
     ]
    }
   ],
   "execution_count": 7
  },
  {
   "cell_type": "code",
   "id": "9ec63cc9551ba5c3",
   "metadata": {
    "ExecuteTime": {
     "end_time": "2025-03-15T18:29:41.257591Z",
     "start_time": "2025-03-15T18:29:39.155675Z"
    }
   },
   "source": [
    "# Distribute files into a toy distributed filesystem\n",
    "\n",
    "!mkdir -p generated_data/distributed\n",
    "create_fs_from_directory(in_dir=\"generated_data/flat\",\n",
    "                         out_dir=\"generated_data/distributed\",\n",
    "                         num_partitions=NUM_WORKERS,\n",
    "                         num_copies=REPLICATION_FACTOR,\n",
    "                         chunk_size=64\n",
    "                         )"
   ],
   "outputs": [
    {
     "name": "stdout",
     "output_type": "stream",
     "text": [
      "generated_data/flat/appB/events.log.jsonl\n",
      "generated_data/flat/appA/events.log.jsonl\n"
     ]
    }
   ],
   "execution_count": 8
  },
  {
   "cell_type": "markdown",
   "id": "40ce85dca7a8a19",
   "metadata": {},
   "source": "### Starting the cluster"
  },
  {
   "metadata": {
    "ExecuteTime": {
     "end_time": "2025-03-15T18:30:59.318507Z",
     "start_time": "2025-03-15T18:29:41.258478Z"
    }
   },
   "cell_type": "code",
   "source": [
    "from ndn_compute_cluster_manager import run_ndn_compute_cluster, stop_ndn_compute_cluster\n",
    "run_ndn_compute_cluster(num_workers=NUM_WORKERS, rebuild=True)\n",
    "\n",
    "import time\n",
    "cluster_start_time = int(time.time())"
   ],
   "id": "2c1381df6006c82b",
   "outputs": [
    {
     "name": "stdout",
     "output_type": "stream",
     "text": [
      "Building images...\n",
      "Building driver image: ndn-compute/driver:latest\n",
      "Building worker image: ndn-compute/worker:latest\n",
      "Creating network...\n",
      "Network ndn_compute_net already exists\n",
      "Starting containers...\n",
      "Starting NFD container...\n",
      "Found existing NFD container, removing...\n",
      "NFD container started with ID: 8cae49c76195b50b7d745f48dee52ef7b51de1e9645b2aeeeb594c1302679806\n",
      "Starting driver container...\n",
      "Found existing driver container, removing...\n",
      "Driver container started with ID: bafb75f847389288c08f6c48994bb0a2d9c23c664fd535db0ca7711a144a6cbd\n",
      "Starting worker container: worker1 with IP 192.168.1.20...\n",
      "Found existing worker1 container, removing...\n",
      "Worker container worker1 started with ID: 2201cb3a5aa8ebc904e69076b68355824f3cfa250af5e953f584a85bf7bf52e1\n",
      "Starting worker container: worker2 with IP 192.168.1.21...\n",
      "Found existing worker2 container, removing...\n",
      "Worker container worker2 started with ID: f0ef1c8c65df910669c5120789cb8462e99686f383e6fdf10bd1b6f75bf30367\n",
      "Starting worker container: worker3 with IP 192.168.1.22...\n",
      "Found existing worker3 container, removing...\n",
      "Worker container worker3 started with ID: f35a91ba9bfcc1a0ce41258414792f0bcda63e11dc06209e1d83f86a9607b60f\n",
      "NDN compute cluster deployment complete with 3 workers!\n"
     ]
    }
   ],
   "execution_count": 9
  },
  {
   "metadata": {},
   "cell_type": "code",
   "outputs": [],
   "execution_count": null,
   "source": [
    "# The containers need time to start up and stabilize. We give it 10 seconds.\n",
    "ready_time = cluster_start_time + 10\n",
    "current_time = int(time.time())\n",
    "if current_time < ready_time:\n",
    "    time.sleep(ready_time - current_time)"
   ],
   "id": "57d7a2d3f47f4c0"
  },
  {
   "cell_type": "code",
   "id": "db5b3783ae93e503",
   "metadata": {
    "ExecuteTime": {
     "end_time": "2025-03-15T18:30:59.466783Z",
     "start_time": "2025-03-15T18:30:59.322964Z"
    }
   },
   "source": [
    "# Make sure your cluster is running\n",
    "!docker ps"
   ],
   "outputs": [
    {
     "name": "stdout",
     "output_type": "stream",
     "text": [
      "CONTAINER ID   IMAGE                       COMMAND                  CREATED         STATUS                  PORTS                          NAMES\r\n",
      "f35a91ba9bfc   ndn-compute/worker:latest   \"python -m ndn_compu…\"   1 second ago    Up Less than a second                                  worker3\r\n",
      "f0ef1c8c65df   ndn-compute/worker:latest   \"python -m ndn_compu…\"   1 second ago    Up Less than a second                                  worker2\r\n",
      "2201cb3a5aa8   ndn-compute/worker:latest   \"python -m ndn_compu…\"   1 second ago    Up 1 second                                            worker1\r\n",
      "bafb75f84738   ndn-compute/driver:latest   \"python -m ndn_compu…\"   2 seconds ago   Up 1 second             0.0.0.0:5214->5214/tcp         driver1\r\n",
      "8cae49c76195   ndn-compute/nfd:latest      \"/usr/bin/nfd --conf…\"   2 seconds ago   Up 1 second             6363/tcp, 9696/tcp, 6363/udp   nfd1\r\n"
     ]
    }
   ],
   "execution_count": 10
  },
  {
   "cell_type": "markdown",
   "id": "49ecd798b281e09f",
   "metadata": {},
   "source": [
    "IMPORTANT: You should see a driver, NFD, and worker(s) up"
   ]
  },
  {
   "cell_type": "markdown",
   "id": "1a26af33e91beac8",
   "metadata": {},
   "source": [
    "### Using the engine"
   ]
  },
  {
   "cell_type": "code",
   "id": "6261d125969cc0ed",
   "metadata": {
    "ExecuteTime": {
     "end_time": "2025-03-15T18:30:59.739155Z",
     "start_time": "2025-03-15T18:30:59.467635Z"
    }
   },
   "source": [
    "from ndn_compute_client import NdnComputeClient"
   ],
   "outputs": [],
   "execution_count": 11
  },
  {
   "cell_type": "code",
   "id": "4ba0ab7e3ddcd29c",
   "metadata": {
    "ExecuteTime": {
     "end_time": "2025-03-15T18:31:09.752006Z",
     "start_time": "2025-03-15T18:31:09.748715Z"
    }
   },
   "source": [
    "client = NdnComputeClient('http://localhost:5214')"
   ],
   "outputs": [],
   "execution_count": 13
  },
  {
   "metadata": {},
   "cell_type": "markdown",
   "source": "#### Component Sanity Checks",
   "id": "5d51e886ba2c9503"
  },
  {
   "cell_type": "code",
   "id": "4a034411bd48714e",
   "metadata": {
    "ExecuteTime": {
     "end_time": "2025-03-15T18:31:09.760101Z",
     "start_time": "2025-03-15T18:31:09.752793Z"
    }
   },
   "source": [
    "# Trivial test to make sure driver and worker are talking to each other\n",
    "client.add(8, 9)"
   ],
   "outputs": [
    {
     "data": {
      "text/plain": [
       "17"
      ]
     },
     "execution_count": 14,
     "metadata": {},
     "output_type": "execute_result"
    }
   ],
   "execution_count": 14
  },
  {
   "cell_type": "code",
   "id": "ca54d79494f88c01",
   "metadata": {
    "ExecuteTime": {
     "end_time": "2025-03-15T18:31:45.139818Z",
     "start_time": "2025-03-15T18:31:09.760858Z"
    }
   },
   "source": [
    "# Test to make sure result store and large transfers are working\n",
    "import zlib\n",
    "random_bytes = client.urandom() # This may take a while\n",
    "print(zlib.crc32(random_bytes)) # Does it match what was computed worker-side? (See docker logs)"
   ],
   "outputs": [
    {
     "name": "stdout",
     "output_type": "stream",
     "text": [
      "3256280040\n"
     ]
    }
   ],
   "execution_count": 15
  },
  {
   "metadata": {},
   "cell_type": "markdown",
   "source": "#### Run Distributed Computations on Example dataset",
   "id": "383355b02419dc41"
  },
  {
   "cell_type": "code",
   "id": "f3579e29894fdb29",
   "metadata": {
    "ExecuteTime": {
     "end_time": "2025-03-15T18:31:45.142273Z",
     "start_time": "2025-03-15T18:31:45.140424Z"
    }
   },
   "source": [
    "# Create dataset from remote file\n",
    "dataset = client.create_dataset(\"appB/events.log.jsonl\")"
   ],
   "outputs": [],
   "execution_count": 16
  },
  {
   "metadata": {
    "ExecuteTime": {
     "end_time": "2025-03-15T18:31:57.703364Z",
     "start_time": "2025-03-15T18:31:45.142904Z"
    }
   },
   "cell_type": "code",
   "source": [
    "# Do a transformation, like filter\n",
    "pred = lambda row: row['event_type'] == 'purchase' and row['device'] == 'tablet' and row['browser'] == 'safari'\n",
    "ipad_purchases = dataset.filter(pred).collect()"
   ],
   "id": "40348603ce4c95de",
   "outputs": [],
   "execution_count": 17
  },
  {
   "metadata": {
    "ExecuteTime": {
     "end_time": "2025-03-15T18:31:57.710707Z",
     "start_time": "2025-03-15T18:31:57.703936Z"
    }
   },
   "cell_type": "code",
   "source": "ipad_purchases.head()",
   "id": "aec178948db37f02",
   "outputs": [
    {
     "data": {
      "text/plain": [
       "                 id               timestamp   user_id event_type  device  \\\n",
       "0  8z87q3HkhxAL4hrK 2024-05-01 11:29:19.802  nTDwhXs2   purchase  tablet   \n",
       "1  y1KqAlvaK6MVlHIh 2024-08-20 11:29:19.802  5JSSq8DX   purchase  tablet   \n",
       "2  uMkTgxEKx2chFWLO 2024-09-04 11:29:19.804  yVBAZzYy   purchase  tablet   \n",
       "3  Rlhq2QGC6WyA60Yt 2024-11-29 11:29:19.804  hlOiPyxl   purchase  tablet   \n",
       "4  6TwLcnkNdRB6keLL 2024-03-19 11:29:19.805  sSlW7w15   purchase  tablet   \n",
       "\n",
       "  browser                                           location  \\\n",
       "0  safari  {'country': 'FR', 'city': 'Sydney', 'latitude'...   \n",
       "1  safari  {'country': 'JP', 'city': 'Sydney', 'latitude'...   \n",
       "2  safari  {'country': 'JP', 'city': 'Tokyo', 'latitude':...   \n",
       "3  safari  {'country': 'DE', 'city': 'Paris', 'latitude':...   \n",
       "4  safari  {'country': 'DE', 'city': 'Sydney', 'latitude'...   \n",
       "\n",
       "   session_duration                                           metadata  \n",
       "0               927  {'platform_version': '3.2.5', 'user_agent': 'h...  \n",
       "1              1432  {'platform_version': '10.5.5', 'user_agent': '...  \n",
       "2              3593  {'platform_version': '6.8.6', 'user_agent': 'a...  \n",
       "3              1482  {'platform_version': '9.1.0', 'user_agent': 'z...  \n",
       "4              1356  {'platform_version': '8.6.7', 'user_agent': 'G...  "
      ],
      "text/html": [
       "<div>\n",
       "<style scoped>\n",
       "    .dataframe tbody tr th:only-of-type {\n",
       "        vertical-align: middle;\n",
       "    }\n",
       "\n",
       "    .dataframe tbody tr th {\n",
       "        vertical-align: top;\n",
       "    }\n",
       "\n",
       "    .dataframe thead th {\n",
       "        text-align: right;\n",
       "    }\n",
       "</style>\n",
       "<table border=\"1\" class=\"dataframe\">\n",
       "  <thead>\n",
       "    <tr style=\"text-align: right;\">\n",
       "      <th></th>\n",
       "      <th>id</th>\n",
       "      <th>timestamp</th>\n",
       "      <th>user_id</th>\n",
       "      <th>event_type</th>\n",
       "      <th>device</th>\n",
       "      <th>browser</th>\n",
       "      <th>location</th>\n",
       "      <th>session_duration</th>\n",
       "      <th>metadata</th>\n",
       "    </tr>\n",
       "  </thead>\n",
       "  <tbody>\n",
       "    <tr>\n",
       "      <th>0</th>\n",
       "      <td>8z87q3HkhxAL4hrK</td>\n",
       "      <td>2024-05-01 11:29:19.802</td>\n",
       "      <td>nTDwhXs2</td>\n",
       "      <td>purchase</td>\n",
       "      <td>tablet</td>\n",
       "      <td>safari</td>\n",
       "      <td>{'country': 'FR', 'city': 'Sydney', 'latitude'...</td>\n",
       "      <td>927</td>\n",
       "      <td>{'platform_version': '3.2.5', 'user_agent': 'h...</td>\n",
       "    </tr>\n",
       "    <tr>\n",
       "      <th>1</th>\n",
       "      <td>y1KqAlvaK6MVlHIh</td>\n",
       "      <td>2024-08-20 11:29:19.802</td>\n",
       "      <td>5JSSq8DX</td>\n",
       "      <td>purchase</td>\n",
       "      <td>tablet</td>\n",
       "      <td>safari</td>\n",
       "      <td>{'country': 'JP', 'city': 'Sydney', 'latitude'...</td>\n",
       "      <td>1432</td>\n",
       "      <td>{'platform_version': '10.5.5', 'user_agent': '...</td>\n",
       "    </tr>\n",
       "    <tr>\n",
       "      <th>2</th>\n",
       "      <td>uMkTgxEKx2chFWLO</td>\n",
       "      <td>2024-09-04 11:29:19.804</td>\n",
       "      <td>yVBAZzYy</td>\n",
       "      <td>purchase</td>\n",
       "      <td>tablet</td>\n",
       "      <td>safari</td>\n",
       "      <td>{'country': 'JP', 'city': 'Tokyo', 'latitude':...</td>\n",
       "      <td>3593</td>\n",
       "      <td>{'platform_version': '6.8.6', 'user_agent': 'a...</td>\n",
       "    </tr>\n",
       "    <tr>\n",
       "      <th>3</th>\n",
       "      <td>Rlhq2QGC6WyA60Yt</td>\n",
       "      <td>2024-11-29 11:29:19.804</td>\n",
       "      <td>hlOiPyxl</td>\n",
       "      <td>purchase</td>\n",
       "      <td>tablet</td>\n",
       "      <td>safari</td>\n",
       "      <td>{'country': 'DE', 'city': 'Paris', 'latitude':...</td>\n",
       "      <td>1482</td>\n",
       "      <td>{'platform_version': '9.1.0', 'user_agent': 'z...</td>\n",
       "    </tr>\n",
       "    <tr>\n",
       "      <th>4</th>\n",
       "      <td>6TwLcnkNdRB6keLL</td>\n",
       "      <td>2024-03-19 11:29:19.805</td>\n",
       "      <td>sSlW7w15</td>\n",
       "      <td>purchase</td>\n",
       "      <td>tablet</td>\n",
       "      <td>safari</td>\n",
       "      <td>{'country': 'DE', 'city': 'Sydney', 'latitude'...</td>\n",
       "      <td>1356</td>\n",
       "      <td>{'platform_version': '8.6.7', 'user_agent': 'G...</td>\n",
       "    </tr>\n",
       "  </tbody>\n",
       "</table>\n",
       "</div>"
      ]
     },
     "execution_count": 18,
     "metadata": {},
     "output_type": "execute_result"
    }
   ],
   "execution_count": 18
  },
  {
   "metadata": {
    "ExecuteTime": {
     "end_time": "2025-03-15T18:31:59.825252Z",
     "start_time": "2025-03-15T18:31:57.711365Z"
    }
   },
   "cell_type": "code",
   "source": [
    "# Stress test:\n",
    "dataset = client.create_dataset(\"appA/events.log.jsonl\")\n",
    "# Transform data\n",
    "id_lens = dataset.map(lambda r: len(str(r)))\n",
    "id_lens_cached = id_lens.cache() # Cache it to materialize results\n",
    "\n",
    "# Transform data again\n",
    "id_lens_plus_one = id_lens_cached.map(lambda r: r + 1)\n",
    "id_lens_plus_one_cached = id_lens_plus_one.cache() # Cache it to materialize results, but using previous cache"
   ],
   "id": "ffd31c7b60dc38e5",
   "outputs": [],
   "execution_count": 19
  },
  {
   "cell_type": "code",
   "id": "7ea78b32",
   "metadata": {
    "ExecuteTime": {
     "end_time": "2025-03-15T18:32:21.284256Z",
     "start_time": "2025-03-15T18:31:59.826201Z"
    }
   },
   "source": "df = id_lens_plus_one_cached.collect()",
   "outputs": [],
   "execution_count": 20
  },
  {
   "cell_type": "code",
   "id": "1d3a82d0",
   "metadata": {
    "ExecuteTime": {
     "end_time": "2025-03-15T18:32:21.287371Z",
     "start_time": "2025-03-15T18:32:21.284948Z"
    }
   },
   "source": "df.shape",
   "outputs": [
    {
     "data": {
      "text/plain": [
       "(439417, 9)"
      ]
     },
     "execution_count": 21,
     "metadata": {},
     "output_type": "execute_result"
    }
   ],
   "execution_count": 21
  },
  {
   "metadata": {
    "ExecuteTime": {
     "end_time": "2025-03-15T18:32:21.291507Z",
     "start_time": "2025-03-15T18:32:21.288020Z"
    }
   },
   "cell_type": "code",
   "source": "df.head()",
   "id": "da34c8b2e61c6849",
   "outputs": [
    {
     "data": {
      "text/plain": [
       "   id  timestamp  user_id  event_type  device  browser  location  \\\n",
       "0  17         27        9           7       8        7       101   \n",
       "1  17         27        9           7       7        8       100   \n",
       "2  17         27        9           9       7        8        99   \n",
       "3  17         27        9           6       7        7       103   \n",
       "4  17         27        9           6       7        8       102   \n",
       "\n",
       "   session_duration  metadata  \n",
       "0                 5       166  \n",
       "1                 5       166  \n",
       "2                 4       166  \n",
       "3                 5       166  \n",
       "4                 5       166  "
      ],
      "text/html": [
       "<div>\n",
       "<style scoped>\n",
       "    .dataframe tbody tr th:only-of-type {\n",
       "        vertical-align: middle;\n",
       "    }\n",
       "\n",
       "    .dataframe tbody tr th {\n",
       "        vertical-align: top;\n",
       "    }\n",
       "\n",
       "    .dataframe thead th {\n",
       "        text-align: right;\n",
       "    }\n",
       "</style>\n",
       "<table border=\"1\" class=\"dataframe\">\n",
       "  <thead>\n",
       "    <tr style=\"text-align: right;\">\n",
       "      <th></th>\n",
       "      <th>id</th>\n",
       "      <th>timestamp</th>\n",
       "      <th>user_id</th>\n",
       "      <th>event_type</th>\n",
       "      <th>device</th>\n",
       "      <th>browser</th>\n",
       "      <th>location</th>\n",
       "      <th>session_duration</th>\n",
       "      <th>metadata</th>\n",
       "    </tr>\n",
       "  </thead>\n",
       "  <tbody>\n",
       "    <tr>\n",
       "      <th>0</th>\n",
       "      <td>17</td>\n",
       "      <td>27</td>\n",
       "      <td>9</td>\n",
       "      <td>7</td>\n",
       "      <td>8</td>\n",
       "      <td>7</td>\n",
       "      <td>101</td>\n",
       "      <td>5</td>\n",
       "      <td>166</td>\n",
       "    </tr>\n",
       "    <tr>\n",
       "      <th>1</th>\n",
       "      <td>17</td>\n",
       "      <td>27</td>\n",
       "      <td>9</td>\n",
       "      <td>7</td>\n",
       "      <td>7</td>\n",
       "      <td>8</td>\n",
       "      <td>100</td>\n",
       "      <td>5</td>\n",
       "      <td>166</td>\n",
       "    </tr>\n",
       "    <tr>\n",
       "      <th>2</th>\n",
       "      <td>17</td>\n",
       "      <td>27</td>\n",
       "      <td>9</td>\n",
       "      <td>9</td>\n",
       "      <td>7</td>\n",
       "      <td>8</td>\n",
       "      <td>99</td>\n",
       "      <td>4</td>\n",
       "      <td>166</td>\n",
       "    </tr>\n",
       "    <tr>\n",
       "      <th>3</th>\n",
       "      <td>17</td>\n",
       "      <td>27</td>\n",
       "      <td>9</td>\n",
       "      <td>6</td>\n",
       "      <td>7</td>\n",
       "      <td>7</td>\n",
       "      <td>103</td>\n",
       "      <td>5</td>\n",
       "      <td>166</td>\n",
       "    </tr>\n",
       "    <tr>\n",
       "      <th>4</th>\n",
       "      <td>17</td>\n",
       "      <td>27</td>\n",
       "      <td>9</td>\n",
       "      <td>6</td>\n",
       "      <td>7</td>\n",
       "      <td>8</td>\n",
       "      <td>102</td>\n",
       "      <td>5</td>\n",
       "      <td>166</td>\n",
       "    </tr>\n",
       "  </tbody>\n",
       "</table>\n",
       "</div>"
      ]
     },
     "execution_count": 22,
     "metadata": {},
     "output_type": "execute_result"
    }
   ],
   "execution_count": 22
  },
  {
   "metadata": {},
   "cell_type": "markdown",
   "source": "### Cleanup",
   "id": "9f339aad39c127e2"
  },
  {
   "metadata": {
    "ExecuteTime": {
     "end_time": "2025-03-15T18:33:02.101913Z",
     "start_time": "2025-03-15T18:32:21.292122Z"
    }
   },
   "cell_type": "code",
   "source": "stop_ndn_compute_cluster()",
   "id": "d714e20410ac3e4e",
   "outputs": [
    {
     "name": "stdout",
     "output_type": "stream",
     "text": [
      "Stopping NDN compute cluster...\n",
      "Stopping NFD container...\n",
      "NFD container stopped and removed.\n",
      "Stopping driver container...\n",
      "Driver container stopped and removed.\n",
      "Stopping worker1 container...\n",
      "worker1 container stopped and removed.\n",
      "Stopping worker2 container...\n",
      "worker2 container stopped and removed.\n",
      "Stopping worker3 container...\n",
      "worker3 container stopped and removed.\n",
      "worker4 container not found.\n",
      "Removing network ndn_compute_net...\n",
      "Network ndn_compute_net removed.\n",
      "NDN compute cluster shutdown complete. Stopped 3 workers.\n"
     ]
    }
   ],
   "execution_count": 23
  }
 ],
 "metadata": {
  "kernelspec": {
   "display_name": "venv",
   "language": "python",
   "name": "python3"
  },
  "language_info": {
   "codemirror_mode": {
    "name": "ipython",
    "version": 3
   },
   "file_extension": ".py",
   "mimetype": "text/x-python",
   "name": "python",
   "nbconvert_exporter": "python",
   "pygments_lexer": "ipython3",
   "version": "3.11.6"
  }
 },
 "nbformat": 4,
 "nbformat_minor": 5
}

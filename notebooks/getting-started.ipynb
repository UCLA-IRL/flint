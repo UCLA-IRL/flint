{
 "cells": [
  {
   "metadata": {},
   "cell_type": "markdown",
   "source": [
    "# Getting Started \n",
    "with the NDN Distributed Processing Engine\n",
    "\n",
    "Note: you may want to run this in a venv or Conda environment.\n",
    "\n",
    "### Get Dependencies"
   ],
   "id": "e1ca757d35dedd75"
  },
  {
   "metadata": {
    "ExecuteTime": {
     "end_time": "2025-02-20T19:31:41.888903Z",
     "start_time": "2025-02-20T19:31:41.673512Z"
    }
   },
   "cell_type": "code",
   "source": [
    "# Get submodules\n",
    "!git submodule update --init --recursive"
   ],
   "id": "f1da9626ad207b2d",
   "outputs": [],
   "execution_count": 1
  },
  {
   "metadata": {},
   "cell_type": "markdown",
   "source": "Note: Installing local packages should automatically install pip dependencies such as `python-ndn`. ",
   "id": "76bb492902e70975"
  },
  {
   "metadata": {
    "ExecuteTime": {
     "end_time": "2025-02-20T19:31:43.858459Z",
     "start_time": "2025-02-20T19:31:43.732540Z"
    }
   },
   "cell_type": "code",
   "source": [
    "# Install packages\n",
    "!cd ..; for dir in ./pkg/*/; do [ -d \"$dir\" ] && pip install --find-links=./pkg -e \"$dir\"; done"
   ],
   "id": "465df2cc7a1a6c26",
   "outputs": [],
   "execution_count": 2
  },
  {
   "metadata": {},
   "cell_type": "markdown",
   "source": "### Generate Data",
   "id": "4173ef2ffc91d9e0"
  },
  {
   "metadata": {
    "ExecuteTime": {
     "end_time": "2025-02-20T19:31:47.880990Z",
     "start_time": "2025-02-20T19:31:47.873001Z"
    }
   },
   "cell_type": "code",
   "source": [
    "from ndn_compute_jsonl_generator import generate_large_jsonl\n",
    "from ndn_compute_fs_creator import create_fs_from_directory"
   ],
   "id": "406bd355603879b1",
   "outputs": [],
   "execution_count": 3
  },
  {
   "metadata": {
    "ExecuteTime": {
     "end_time": "2025-02-20T19:32:16.431883Z",
     "start_time": "2025-02-20T19:31:49.557541Z"
    }
   },
   "cell_type": "code",
   "source": [
    "# Generate flat files\n",
    "!mkdir -p ../generated_data/flat/appA\n",
    "!mkdir -p ../generated_data/flat/appB\n",
    "\n",
    "generate_large_jsonl(filename='../generated_data/flat/appA/events.log.jsonl', target_size_mb=200)\n",
    "generate_large_jsonl(filename='../generated_data/flat/appB/events.log.jsonl', target_size_mb=500)"
   ],
   "id": "762c89a07241883a",
   "outputs": [
    {
     "name": "stdout",
     "output_type": "stream",
     "text": [
      "Generating JSONL file of approximately 200MB...\n",
      "Progress: 22.76% complete\n",
      "Records written: 100,000\n",
      "Current file size: 45.51MB\n",
      "Progress: 45.51% complete\n",
      "Records written: 200,000\n",
      "Current file size: 91.03MB\n",
      "Progress: 68.27% complete\n",
      "Records written: 300,000\n",
      "Current file size: 136.55MB\n",
      "Progress: 91.03% complete\n",
      "Records written: 400,000\n",
      "Current file size: 182.06MB\n",
      "\n",
      "File generation complete!\n",
      "Final file size: 200.01MB\n",
      "Total records written: 439,417\n",
      "Generating JSONL file of approximately 500MB...\n",
      "Progress: 9.10% complete\n",
      "Records written: 100,000\n",
      "Current file size: 45.51MB\n",
      "Progress: 18.21% complete\n",
      "Records written: 200,000\n",
      "Current file size: 91.03MB\n",
      "Progress: 27.31% complete\n",
      "Records written: 300,000\n",
      "Current file size: 136.55MB\n",
      "Progress: 36.41% complete\n",
      "Records written: 400,000\n",
      "Current file size: 182.06MB\n",
      "Progress: 45.52% complete\n",
      "Records written: 500,000\n",
      "Current file size: 227.58MB\n",
      "Progress: 54.62% complete\n",
      "Records written: 600,000\n",
      "Current file size: 273.10MB\n",
      "Progress: 63.72% complete\n",
      "Records written: 700,000\n",
      "Current file size: 318.61MB\n",
      "Progress: 72.82% complete\n",
      "Records written: 800,000\n",
      "Current file size: 364.12MB\n",
      "Progress: 81.93% complete\n",
      "Records written: 900,000\n",
      "Current file size: 409.65MB\n",
      "Progress: 91.03% complete\n",
      "Records written: 1,000,000\n",
      "Current file size: 455.16MB\n",
      "\n",
      "File generation complete!\n",
      "Final file size: 500.01MB\n",
      "Total records written: 1,098,524\n"
     ]
    }
   ],
   "execution_count": 4
  },
  {
   "metadata": {
    "ExecuteTime": {
     "end_time": "2025-02-20T19:32:38.128690Z",
     "start_time": "2025-02-20T19:32:35.874170Z"
    }
   },
   "cell_type": "code",
   "source": [
    "# Distribute files into a toy distributed filesystem\n",
    "\n",
    "!mkdir -p ../generated_data/distributed\n",
    "create_fs_from_directory(in_dir=\"../generated_data/flat\",\n",
    "                         out_dir=\"../generated_data/distributed\",\n",
    "                         num_partitions=2,\n",
    "                         num_copies=1,\n",
    "                         chunk_size=64\n",
    "                         )"
   ],
   "id": "9ec63cc9551ba5c3",
   "outputs": [
    {
     "name": "stdout",
     "output_type": "stream",
     "text": [
      "../generated_data/flat/appB/events.log.jsonl\n",
      "../generated_data/flat/appA/events.log.jsonl\n"
     ]
    }
   ],
   "execution_count": 5
  },
  {
   "metadata": {},
   "cell_type": "markdown",
   "source": [
    "### Starting the cluster\n",
    "\n",
    "Please run `docker-compose up` in another terminal (from the `ndn-compute` repository root) so that you can see the stdout output in the foreground."
   ],
   "id": "40ce85dca7a8a19"
  },
  {
   "metadata": {
    "ExecuteTime": {
     "end_time": "2025-02-20T19:32:47.889288Z",
     "start_time": "2025-02-20T19:32:47.719789Z"
    }
   },
   "cell_type": "code",
   "source": [
    "# !docker-compose up\n",
    "\n",
    "# Make sure your cluster is running\n",
    "!docker-compose ps"
   ],
   "id": "db5b3783ae93e503",
   "outputs": [
    {
     "name": "stdout",
     "output_type": "stream",
     "text": [
      "NAME      IMAGE                 COMMAND                  SERVICE   CREATED        STATUS         PORTS\r\n",
      "driver1   ndn-compute-driver    \"python -m ndn_compu…\"   driver    11 hours ago   Up 5 seconds   0.0.0.0:5214->5214/tcp\r\n",
      "nfd1      ndn-compute-nfd       \"/usr/bin/nfd --conf…\"   nfd       7 days ago     Up 5 seconds   6363/tcp, 9696/tcp, 6363/udp\r\n",
      "worker1   ndn-compute-worker1   \"python -m ndn_compu…\"   worker1   11 hours ago   Up 5 seconds   \r\n",
      "worker2   ndn-compute-worker2   \"python -m ndn_compu…\"   worker2   11 hours ago   Up 5 seconds   \r\n"
     ]
    }
   ],
   "execution_count": 6
  },
  {
   "metadata": {},
   "cell_type": "markdown",
   "source": "IMPORTANT: You should see a driver, NFD, and worker(s) up",
   "id": "49ecd798b281e09f"
  },
  {
   "metadata": {},
   "cell_type": "markdown",
   "source": "### Using the engine",
   "id": "1a26af33e91beac8"
  },
  {
   "metadata": {
    "ExecuteTime": {
     "end_time": "2025-02-20T19:32:53.500811Z",
     "start_time": "2025-02-20T19:32:53.482286Z"
    }
   },
   "cell_type": "code",
   "source": "from ndn_compute_client import NdnComputeClient",
   "id": "6261d125969cc0ed",
   "outputs": [],
   "execution_count": 7
  },
  {
   "metadata": {
    "ExecuteTime": {
     "end_time": "2025-02-20T19:32:54.410217Z",
     "start_time": "2025-02-20T19:32:54.407395Z"
    }
   },
   "cell_type": "code",
   "source": "client = NdnComputeClient('http://localhost:5214')",
   "id": "4ba0ab7e3ddcd29c",
   "outputs": [],
   "execution_count": 8
  },
  {
   "metadata": {
    "ExecuteTime": {
     "end_time": "2025-02-20T19:32:55.400541Z",
     "start_time": "2025-02-20T19:32:55.385349Z"
    }
   },
   "cell_type": "code",
   "source": "client.add(8, 9)",
   "id": "4a034411bd48714e",
   "outputs": [
    {
     "data": {
      "text/plain": [
       "17"
      ]
     },
     "execution_count": 9,
     "metadata": {},
     "output_type": "execute_result"
    }
   ],
   "execution_count": 9
  },
  {
   "metadata": {
    "ExecuteTime": {
     "end_time": "2025-02-20T19:33:02.304660Z",
     "start_time": "2025-02-20T19:33:02.302691Z"
    }
   },
   "cell_type": "code",
   "source": "# TODO: write the code then show people how to actually process data",
   "id": "f3579e29894fdb29",
   "outputs": [],
   "execution_count": 10
  }
 ],
 "metadata": {
  "kernelspec": {
   "display_name": "Python 3",
   "language": "python",
   "name": "python3"
  },
  "language_info": {
   "codemirror_mode": {
    "name": "ipython",
    "version": 2
   },
   "file_extension": ".py",
   "mimetype": "text/x-python",
   "name": "python",
   "nbconvert_exporter": "python",
   "pygments_lexer": "ipython2",
   "version": "2.7.6"
  }
 },
 "nbformat": 4,
 "nbformat_minor": 5
}

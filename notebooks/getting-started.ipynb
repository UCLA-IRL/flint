{
 "cells": [
  {
   "cell_type": "markdown",
   "id": "e1ca757d35dedd75",
   "metadata": {},
   "source": [
    "# Getting Started \n",
    "with the NDN Distributed Processing Engine\n",
    "\n",
    "Note: you may want to run this in a venv or Conda environment.\n",
    "\n",
    "### Get Dependencies"
   ]
  },
  {
   "cell_type": "code",
   "execution_count": 1,
   "id": "f1da9626ad207b2d",
   "metadata": {
    "ExecuteTime": {
     "end_time": "2025-03-04T00:38:26.728895Z",
     "start_time": "2025-03-04T00:38:26.515710Z"
    }
   },
   "outputs": [],
   "source": [
    "# Get submodules\n",
    "!git submodule update --init --recursive"
   ]
  },
  {
   "cell_type": "markdown",
   "id": "76bb492902e70975",
   "metadata": {},
   "source": [
    "Note: Installing local packages should automatically install pip dependencies such as `python-ndn`. "
   ]
  },
  {
   "cell_type": "code",
   "execution_count": 38,
   "id": "465df2cc7a1a6c26",
   "metadata": {
    "ExecuteTime": {
     "end_time": "2025-03-04T00:38:28.537938Z",
     "start_time": "2025-03-04T00:38:28.412407Z"
    }
   },
   "outputs": [
    {
     "name": "stdout",
     "output_type": "stream",
     "text": [
      "Looking in links: ./pkg\n",
      "Processing ./pkg/ndn_compute\n",
      "  Installing build dependencies ... \u001b[?25ldone\n",
      "\u001b[?25h  Getting requirements to build wheel ... \u001b[?25ldone\n",
      "\u001b[?25h  Preparing metadata (pyproject.toml) ... \u001b[?25ldone\n",
      "\u001b[?25hRequirement already satisfied: python-ndn==0.5.0 in ./venv/lib/python3.11/site-packages (from ndn-compute==0.1) (0.5.0)\n",
      "Requirement already satisfied: nest-asyncio==1.6.0 in ./venv/lib/python3.11/site-packages (from ndn-compute==0.1) (1.6.0)\n",
      "Requirement already satisfied: dill==0.3.9 in ./venv/lib/python3.11/site-packages (from ndn-compute==0.1) (0.3.9)\n",
      "Requirement already satisfied: pandas==2.2.3 in ./venv/lib/python3.11/site-packages (from ndn-compute==0.1) (2.2.3)\n",
      "Requirement already satisfied: numpy>=1.23.2 in ./venv/lib/python3.11/site-packages (from pandas==2.2.3->ndn-compute==0.1) (2.2.3)\n",
      "Requirement already satisfied: python-dateutil>=2.8.2 in ./venv/lib/python3.11/site-packages (from pandas==2.2.3->ndn-compute==0.1) (2.9.0.post0)\n",
      "Requirement already satisfied: pytz>=2020.1 in ./venv/lib/python3.11/site-packages (from pandas==2.2.3->ndn-compute==0.1) (2025.1)\n",
      "Requirement already satisfied: tzdata>=2022.7 in ./venv/lib/python3.11/site-packages (from pandas==2.2.3->ndn-compute==0.1) (2025.1)\n",
      "Requirement already satisfied: aenum<4.0.0,>=3.1.15 in ./venv/lib/python3.11/site-packages (from python-ndn==0.5.0->ndn-compute==0.1) (3.1.15)\n",
      "Requirement already satisfied: aiohttp<4.0.0,>=3.10.9 in ./venv/lib/python3.11/site-packages (from python-ndn==0.5.0->ndn-compute==0.1) (3.11.13)\n",
      "Requirement already satisfied: lark<2.0.0,>=1.2.2 in ./venv/lib/python3.11/site-packages (from python-ndn==0.5.0->ndn-compute==0.1) (1.2.2)\n",
      "Requirement already satisfied: pycryptodomex<4.0.0,>=3.21.0 in ./venv/lib/python3.11/site-packages (from python-ndn==0.5.0->ndn-compute==0.1) (3.21.0)\n",
      "Requirement already satisfied: pygtrie<3.0.0,>=2.5.0 in ./venv/lib/python3.11/site-packages (from python-ndn==0.5.0->ndn-compute==0.1) (2.5.0)\n",
      "Requirement already satisfied: aiohappyeyeballs>=2.3.0 in ./venv/lib/python3.11/site-packages (from aiohttp<4.0.0,>=3.10.9->python-ndn==0.5.0->ndn-compute==0.1) (2.4.6)\n",
      "Requirement already satisfied: aiosignal>=1.1.2 in ./venv/lib/python3.11/site-packages (from aiohttp<4.0.0,>=3.10.9->python-ndn==0.5.0->ndn-compute==0.1) (1.3.2)\n",
      "Requirement already satisfied: attrs>=17.3.0 in ./venv/lib/python3.11/site-packages (from aiohttp<4.0.0,>=3.10.9->python-ndn==0.5.0->ndn-compute==0.1) (25.1.0)\n",
      "Requirement already satisfied: frozenlist>=1.1.1 in ./venv/lib/python3.11/site-packages (from aiohttp<4.0.0,>=3.10.9->python-ndn==0.5.0->ndn-compute==0.1) (1.5.0)\n",
      "Requirement already satisfied: multidict<7.0,>=4.5 in ./venv/lib/python3.11/site-packages (from aiohttp<4.0.0,>=3.10.9->python-ndn==0.5.0->ndn-compute==0.1) (6.1.0)\n",
      "Requirement already satisfied: propcache>=0.2.0 in ./venv/lib/python3.11/site-packages (from aiohttp<4.0.0,>=3.10.9->python-ndn==0.5.0->ndn-compute==0.1) (0.3.0)\n",
      "Requirement already satisfied: yarl<2.0,>=1.17.0 in ./venv/lib/python3.11/site-packages (from aiohttp<4.0.0,>=3.10.9->python-ndn==0.5.0->ndn-compute==0.1) (1.18.3)\n",
      "Requirement already satisfied: six>=1.5 in ./venv/lib/python3.11/site-packages (from python-dateutil>=2.8.2->pandas==2.2.3->ndn-compute==0.1) (1.17.0)\n",
      "Requirement already satisfied: idna>=2.0 in ./venv/lib/python3.11/site-packages (from yarl<2.0,>=1.17.0->aiohttp<4.0.0,>=3.10.9->python-ndn==0.5.0->ndn-compute==0.1) (3.10)\n",
      "Building wheels for collected packages: ndn-compute\n",
      "  Building wheel for ndn-compute (pyproject.toml) ... \u001b[?25ldone\n",
      "\u001b[?25h  Created wheel for ndn-compute: filename=ndn_compute-0.1-py3-none-any.whl size=24533 sha256=604acb0486aa315133db45b4fd1c7793ae00716812be17fdebde2c525ce7ec21\n",
      "  Stored in directory: /private/var/folders/x8/vn51j39n4ggf0j7pk0zk6vjh0000gn/T/pip-ephem-wheel-cache-g_rgqnc2/wheels/a5/b5/9c/2f295dc3901a3c993c666f8c266e58a95f2800ba25612473db\n",
      "Successfully built ndn-compute\n",
      "Installing collected packages: ndn-compute\n",
      "  Attempting uninstall: ndn-compute\n",
      "    Found existing installation: ndn-compute 0.1\n",
      "    Uninstalling ndn-compute-0.1:\n",
      "      Successfully uninstalled ndn-compute-0.1\n",
      "Successfully installed ndn-compute-0.1\n",
      "\n",
      "\u001b[1m[\u001b[0m\u001b[34;49mnotice\u001b[0m\u001b[1;39;49m]\u001b[0m\u001b[39;49m A new release of pip is available: \u001b[0m\u001b[31;49m23.2.1\u001b[0m\u001b[39;49m -> \u001b[0m\u001b[32;49m25.0.1\u001b[0m\n",
      "\u001b[1m[\u001b[0m\u001b[34;49mnotice\u001b[0m\u001b[1;39;49m]\u001b[0m\u001b[39;49m To update, run: \u001b[0m\u001b[32;49mpip install --upgrade pip\u001b[0m\n",
      "Looking in links: ./pkg\n",
      "Processing ./pkg/ndn_compute_util\n",
      "  Installing build dependencies ... \u001b[?25ldone\n",
      "\u001b[?25h  Getting requirements to build wheel ... \u001b[?25ldone\n",
      "\u001b[?25h  Preparing metadata (pyproject.toml) ... \u001b[?25ldone\n",
      "\u001b[?25hRequirement already satisfied: python-ndn==0.5.0 in ./venv/lib/python3.11/site-packages (from ndn-compute-util==0.1) (0.5.0)\n",
      "Requirement already satisfied: aenum<4.0.0,>=3.1.15 in ./venv/lib/python3.11/site-packages (from python-ndn==0.5.0->ndn-compute-util==0.1) (3.1.15)\n",
      "Requirement already satisfied: aiohttp<4.0.0,>=3.10.9 in ./venv/lib/python3.11/site-packages (from python-ndn==0.5.0->ndn-compute-util==0.1) (3.11.13)\n",
      "Requirement already satisfied: lark<2.0.0,>=1.2.2 in ./venv/lib/python3.11/site-packages (from python-ndn==0.5.0->ndn-compute-util==0.1) (1.2.2)\n",
      "Requirement already satisfied: pycryptodomex<4.0.0,>=3.21.0 in ./venv/lib/python3.11/site-packages (from python-ndn==0.5.0->ndn-compute-util==0.1) (3.21.0)\n",
      "Requirement already satisfied: pygtrie<3.0.0,>=2.5.0 in ./venv/lib/python3.11/site-packages (from python-ndn==0.5.0->ndn-compute-util==0.1) (2.5.0)\n",
      "Requirement already satisfied: aiohappyeyeballs>=2.3.0 in ./venv/lib/python3.11/site-packages (from aiohttp<4.0.0,>=3.10.9->python-ndn==0.5.0->ndn-compute-util==0.1) (2.4.6)\n",
      "Requirement already satisfied: aiosignal>=1.1.2 in ./venv/lib/python3.11/site-packages (from aiohttp<4.0.0,>=3.10.9->python-ndn==0.5.0->ndn-compute-util==0.1) (1.3.2)\n",
      "Requirement already satisfied: attrs>=17.3.0 in ./venv/lib/python3.11/site-packages (from aiohttp<4.0.0,>=3.10.9->python-ndn==0.5.0->ndn-compute-util==0.1) (25.1.0)\n",
      "Requirement already satisfied: frozenlist>=1.1.1 in ./venv/lib/python3.11/site-packages (from aiohttp<4.0.0,>=3.10.9->python-ndn==0.5.0->ndn-compute-util==0.1) (1.5.0)\n",
      "Requirement already satisfied: multidict<7.0,>=4.5 in ./venv/lib/python3.11/site-packages (from aiohttp<4.0.0,>=3.10.9->python-ndn==0.5.0->ndn-compute-util==0.1) (6.1.0)\n",
      "Requirement already satisfied: propcache>=0.2.0 in ./venv/lib/python3.11/site-packages (from aiohttp<4.0.0,>=3.10.9->python-ndn==0.5.0->ndn-compute-util==0.1) (0.3.0)\n",
      "Requirement already satisfied: yarl<2.0,>=1.17.0 in ./venv/lib/python3.11/site-packages (from aiohttp<4.0.0,>=3.10.9->python-ndn==0.5.0->ndn-compute-util==0.1) (1.18.3)\n",
      "Requirement already satisfied: idna>=2.0 in ./venv/lib/python3.11/site-packages (from yarl<2.0,>=1.17.0->aiohttp<4.0.0,>=3.10.9->python-ndn==0.5.0->ndn-compute-util==0.1) (3.10)\n",
      "Building wheels for collected packages: ndn-compute-util\n",
      "  Building wheel for ndn-compute-util (pyproject.toml) ... \u001b[?25ldone\n",
      "\u001b[?25h  Created wheel for ndn-compute-util: filename=ndn_compute_util-0.1-py3-none-any.whl size=8191 sha256=4dddd04cd3cab4ffc9c98010d5973e359a608cad4bd13fb713767aaf6e797132\n",
      "  Stored in directory: /private/var/folders/x8/vn51j39n4ggf0j7pk0zk6vjh0000gn/T/pip-ephem-wheel-cache-1q3cv3e7/wheels/60/06/02/4c2eaa95a3a2ca827aebc95a1acb5098b587f7ceaf96b09ef6\n",
      "Successfully built ndn-compute-util\n",
      "Installing collected packages: ndn-compute-util\n",
      "  Attempting uninstall: ndn-compute-util\n",
      "    Found existing installation: ndn-compute-util 0.1\n",
      "    Uninstalling ndn-compute-util-0.1:\n",
      "      Successfully uninstalled ndn-compute-util-0.1\n",
      "Successfully installed ndn-compute-util-0.1\n",
      "\n",
      "\u001b[1m[\u001b[0m\u001b[34;49mnotice\u001b[0m\u001b[1;39;49m]\u001b[0m\u001b[39;49m A new release of pip is available: \u001b[0m\u001b[31;49m23.2.1\u001b[0m\u001b[39;49m -> \u001b[0m\u001b[32;49m25.0.1\u001b[0m\n",
      "\u001b[1m[\u001b[0m\u001b[34;49mnotice\u001b[0m\u001b[1;39;49m]\u001b[0m\u001b[39;49m To update, run: \u001b[0m\u001b[32;49mpip install --upgrade pip\u001b[0m\n"
     ]
    }
   ],
   "source": [
    "# Install packages\n",
    "!bash -c 'cd ..; for dir in ./pkg/*/; do [ -d \"$dir\" ] && pip install --find-links=./pkg \"$dir\"; done'"
   ]
  },
  {
   "cell_type": "markdown",
   "id": "95e205616fc86f7a",
   "metadata": {},
   "source": [
    "### Security Setup"
   ]
  },
  {
   "cell_type": "code",
   "execution_count": 7,
   "id": "7f7172c3a2722764",
   "metadata": {
    "ExecuteTime": {
     "end_time": "2025-03-04T00:38:30.196364Z",
     "start_time": "2025-03-04T00:38:30.090828Z"
    }
   },
   "outputs": [],
   "source": [
    "import os\n",
    "import shutil\n",
    "from ndn_compute_key_creator import create_keys\n",
    "\n",
    "if any(not os.path.isdir(f'../sec_data/{dir}') for dir in ['certs', 'driver', 'worker']):\n",
    "    if os.path.isdir('../sec_data'):\n",
    "        shutil.rmtree('../sec_data')\n",
    "        \n",
    "    create_keys('../sec_data/')"
   ]
  },
  {
   "cell_type": "markdown",
   "id": "4173ef2ffc91d9e0",
   "metadata": {},
   "source": [
    "### Generate Data"
   ]
  },
  {
   "cell_type": "code",
   "execution_count": 8,
   "id": "406bd355603879b1",
   "metadata": {
    "ExecuteTime": {
     "end_time": "2025-03-04T00:38:31.884378Z",
     "start_time": "2025-03-04T00:38:31.879490Z"
    }
   },
   "outputs": [],
   "source": [
    "from ndn_compute_jsonl_generator import generate_large_jsonl\n",
    "from ndn_compute_fs_creator import create_fs_from_directory"
   ]
  },
  {
   "cell_type": "code",
   "execution_count": 9,
   "id": "762c89a07241883a",
   "metadata": {
    "ExecuteTime": {
     "end_time": "2025-03-04T00:39:02.268028Z",
     "start_time": "2025-03-04T00:38:34.827594Z"
    }
   },
   "outputs": [
    {
     "name": "stdout",
     "output_type": "stream",
     "text": [
      "Generating JSONL file of approximately 200MB...\n",
      "Progress: 22.76% complete\n",
      "Records written: 100,000\n",
      "Current file size: 45.51MB\n",
      "Progress: 45.51% complete\n",
      "Records written: 200,000\n",
      "Current file size: 91.03MB\n",
      "Progress: 68.27% complete\n",
      "Records written: 300,000\n",
      "Current file size: 136.55MB\n",
      "Progress: 91.03% complete\n",
      "Records written: 400,000\n",
      "Current file size: 182.06MB\n",
      "\n",
      "File generation complete!\n",
      "Final file size: 200.00MB\n",
      "Total records written: 439,417\n",
      "Generating JSONL file of approximately 500MB...\n",
      "Progress: 9.10% complete\n",
      "Records written: 100,000\n",
      "Current file size: 45.51MB\n",
      "Progress: 18.21% complete\n",
      "Records written: 200,000\n",
      "Current file size: 91.03MB\n",
      "Progress: 27.31% complete\n",
      "Records written: 300,000\n",
      "Current file size: 136.55MB\n",
      "Progress: 36.41% complete\n",
      "Records written: 400,000\n",
      "Current file size: 182.06MB\n",
      "Progress: 45.52% complete\n",
      "Records written: 500,000\n",
      "Current file size: 227.58MB\n",
      "Progress: 54.62% complete\n",
      "Records written: 600,000\n",
      "Current file size: 273.10MB\n",
      "Progress: 63.72% complete\n",
      "Records written: 700,000\n",
      "Current file size: 318.61MB\n",
      "Progress: 72.82% complete\n",
      "Records written: 800,000\n",
      "Current file size: 364.12MB\n",
      "Progress: 81.93% complete\n",
      "Records written: 900,000\n",
      "Current file size: 409.64MB\n",
      "Progress: 91.03% complete\n",
      "Records written: 1,000,000\n",
      "Current file size: 455.16MB\n",
      "\n",
      "File generation complete!\n",
      "Final file size: 500.01MB\n",
      "Total records written: 1,098,524\n"
     ]
    }
   ],
   "source": [
    "# Generate flat files\n",
    "!mkdir -p ../generated_data/flat/appA\n",
    "!mkdir -p ../generated_data/flat/appB\n",
    "\n",
    "generate_large_jsonl(filename='../generated_data/flat/appA/events.log.jsonl', target_size_mb=200)\n",
    "generate_large_jsonl(filename='../generated_data/flat/appB/events.log.jsonl', target_size_mb=500)"
   ]
  },
  {
   "cell_type": "code",
   "execution_count": 10,
   "id": "9ec63cc9551ba5c3",
   "metadata": {
    "ExecuteTime": {
     "end_time": "2025-03-04T00:39:19.793829Z",
     "start_time": "2025-03-04T00:39:18.141095Z"
    }
   },
   "outputs": [
    {
     "name": "stdout",
     "output_type": "stream",
     "text": [
      "../generated_data/flat/appB/events.log.jsonl\n",
      "../generated_data/flat/appA/events.log.jsonl\n"
     ]
    }
   ],
   "source": [
    "# Distribute files into a toy distributed filesystem\n",
    "\n",
    "!mkdir -p ../generated_data/distributed\n",
    "create_fs_from_directory(in_dir=\"../generated_data/flat\",\n",
    "                         out_dir=\"../generated_data/distributed\",\n",
    "                         num_partitions=2,\n",
    "                         num_copies=1,\n",
    "                         chunk_size=64\n",
    "                         )"
   ]
  },
  {
   "cell_type": "markdown",
   "id": "40ce85dca7a8a19",
   "metadata": {},
   "source": [
    "### Starting the cluster\n",
    "\n",
    "Please run `docker-compose up` in another terminal (from the `ndn-compute` repository root) so that you can see the stdout output in the foreground."
   ]
  },
  {
   "cell_type": "code",
   "execution_count": 1,
   "id": "db5b3783ae93e503",
   "metadata": {
    "ExecuteTime": {
     "end_time": "2025-03-04T00:39:36.268228Z",
     "start_time": "2025-03-04T00:39:36.101359Z"
    }
   },
   "outputs": [
    {
     "name": "stdout",
     "output_type": "stream",
     "text": [
      "NAME      IMAGE                 COMMAND                  SERVICE   CREATED          STATUS          PORTS\n",
      "driver1   ndn-compute-driver    \"python -m ndn_compu…\"   driver    43 seconds ago   Up 42 seconds   0.0.0.0:5214->5214/tcp, :::5214->5214/tcp\n",
      "nfd1      ndn-compute-nfd       \"/usr/bin/nfd --conf…\"   nfd       24 hours ago     Up 42 seconds   6363/tcp, 9696/tcp, 6363/udp\n",
      "worker1   ndn-compute-worker1   \"python -m ndn_compu…\"   worker1   43 seconds ago   Up 42 seconds   \n",
      "worker2   ndn-compute-worker2   \"python -m ndn_compu…\"   worker2   43 seconds ago   Up 42 seconds   \n"
     ]
    }
   ],
   "source": [
    "# !docker-compose up\n",
    "\n",
    "# Make sure your cluster is running\n",
    "!docker-compose ps"
   ]
  },
  {
   "cell_type": "markdown",
   "id": "49ecd798b281e09f",
   "metadata": {},
   "source": [
    "IMPORTANT: You should see a driver, NFD, and worker(s) up"
   ]
  },
  {
   "cell_type": "markdown",
   "id": "1a26af33e91beac8",
   "metadata": {},
   "source": [
    "### Using the engine"
   ]
  },
  {
   "cell_type": "code",
   "execution_count": 2,
   "id": "6261d125969cc0ed",
   "metadata": {
    "ExecuteTime": {
     "end_time": "2025-03-04T00:39:49.262499Z",
     "start_time": "2025-03-04T00:39:48.901698Z"
    }
   },
   "outputs": [],
   "source": [
    "from ndn_compute_client import NdnComputeClient"
   ]
  },
  {
   "cell_type": "code",
   "execution_count": 3,
   "id": "4ba0ab7e3ddcd29c",
   "metadata": {
    "ExecuteTime": {
     "end_time": "2025-03-04T00:39:53.054338Z",
     "start_time": "2025-03-04T00:39:53.051993Z"
    }
   },
   "outputs": [],
   "source": [
    "client = NdnComputeClient('http://localhost:5214')"
   ]
  },
  {
   "cell_type": "code",
   "execution_count": 4,
   "id": "4a034411bd48714e",
   "metadata": {
    "ExecuteTime": {
     "end_time": "2025-03-04T00:39:56.362206Z",
     "start_time": "2025-03-04T00:39:56.344165Z"
    }
   },
   "outputs": [
    {
     "data": {
      "text/plain": [
       "17"
      ]
     },
     "execution_count": 4,
     "metadata": {},
     "output_type": "execute_result"
    }
   ],
   "source": [
    "# Trivial test to make sure driver and worker are talking to each other\n",
    "client.add(8, 9)"
   ]
  },
  {
   "cell_type": "code",
   "execution_count": 17,
   "id": "ca54d79494f88c01",
   "metadata": {
    "ExecuteTime": {
     "end_time": "2025-03-04T00:40:44.895093Z",
     "start_time": "2025-03-04T00:40:07.595398Z"
    }
   },
   "outputs": [
    {
     "name": "stdout",
     "output_type": "stream",
     "text": [
      "3354918877\n"
     ]
    }
   ],
   "source": [
    "# Test to make sure result store and large transfers are working\n",
    "import zlib\n",
    "random_bytes = client.urandom() # This may take a while\n",
    "print(zlib.crc32(random_bytes)) # Does it match what was computed worker-side? (See docker logs)"
   ]
  },
  {
   "cell_type": "code",
   "execution_count": null,
   "id": "f3579e29894fdb29",
   "metadata": {
    "ExecuteTime": {
     "end_time": "2025-03-04T00:40:51.335270Z",
     "start_time": "2025-03-04T00:40:51.333310Z"
    }
   },
   "outputs": [
    {
     "name": "stdout",
     "output_type": "stream",
     "text": [
      "[[10, 10, 10, 10]]\n",
      "[[10, 10, 10, 10]]\n"
     ]
    }
   ],
   "source": [
    "# Create dataset from remote file\n",
    "dataset = client.create_dataset(\"appA/events.log.jsonl\")\n",
    "\n",
    "# Transform data\n",
    "dataset = dataset.transform({\"id\": lambda x: len(x)})\n",
    "dataset = dataset.cache() # Cache it to materialize results\n",
    "\n",
    "# Transform data again\n",
    "dataset = dataset.transform({\"id\": lambda x: x + 1})\n",
    "dataset = dataset.cache() # Cache it to materialize results, but using previous cache"
   ]
  }
 ],
 "metadata": {
  "kernelspec": {
   "display_name": "venv",
   "language": "python",
   "name": "python3"
  },
  "language_info": {
   "codemirror_mode": {
    "name": "ipython",
    "version": 3
   },
   "file_extension": ".py",
   "mimetype": "text/x-python",
   "name": "python",
   "nbconvert_exporter": "python",
   "pygments_lexer": "ipython3",
   "version": "3.11.6"
  }
 },
 "nbformat": 4,
 "nbformat_minor": 5
}

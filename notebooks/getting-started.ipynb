{
 "cells": [
  {
   "cell_type": "markdown",
   "id": "e1ca757d35dedd75",
   "metadata": {},
   "source": [
    "# Getting Started \n",
    "with the NDN Distributed Processing Engine\n",
    "\n",
    "Note: you may want to run this in a venv or Conda environment.\n",
    "\n",
    "### Get Dependencies"
   ]
  },
  {
   "cell_type": "code",
   "execution_count": 1,
   "id": "f1da9626ad207b2d",
   "metadata": {
    "ExecuteTime": {
     "end_time": "2025-03-04T00:38:26.728895Z",
     "start_time": "2025-03-04T00:38:26.515710Z"
    }
   },
   "outputs": [],
   "source": [
    "# Get submodules\n",
    "!git submodule update --init --recursive"
   ]
  },
  {
   "cell_type": "markdown",
   "id": "76bb492902e70975",
   "metadata": {},
   "source": [
    "Note: Installing local packages should automatically install pip dependencies such as `python-ndn`. "
   ]
  },
  {
   "cell_type": "code",
   "execution_count": 1,
   "id": "465df2cc7a1a6c26",
   "metadata": {
    "ExecuteTime": {
     "end_time": "2025-03-04T00:38:28.537938Z",
     "start_time": "2025-03-04T00:38:28.412407Z"
    }
   },
   "outputs": [
    {
     "name": "stdout",
     "output_type": "stream",
     "text": [
      "Looking in links: ./pkg\n",
      "Processing ./pkg/ndn_compute\n",
      "  Installing build dependencies ... \u001B[?25ldone\n",
      "\u001B[?25h  Getting requirements to build wheel ... \u001B[?25ldone\n",
      "\u001B[?25h  Preparing metadata (pyproject.toml) ... \u001B[?25ldone\n",
      "\u001B[?25hRequirement already satisfied: python-ndn==0.5.0 in ./venv/lib/python3.11/site-packages (from ndn-compute==0.1) (0.5.0)\n",
      "Requirement already satisfied: nest-asyncio==1.6.0 in ./venv/lib/python3.11/site-packages (from ndn-compute==0.1) (1.6.0)\n",
      "Requirement already satisfied: dill==0.3.9 in ./venv/lib/python3.11/site-packages (from ndn-compute==0.1) (0.3.9)\n",
      "Requirement already satisfied: pandas==2.2.3 in ./venv/lib/python3.11/site-packages (from ndn-compute==0.1) (2.2.3)\n",
      "Requirement already satisfied: numpy>=1.23.2 in ./venv/lib/python3.11/site-packages (from pandas==2.2.3->ndn-compute==0.1) (2.2.3)\n",
      "Requirement already satisfied: python-dateutil>=2.8.2 in ./venv/lib/python3.11/site-packages (from pandas==2.2.3->ndn-compute==0.1) (2.9.0.post0)\n",
      "Requirement already satisfied: pytz>=2020.1 in ./venv/lib/python3.11/site-packages (from pandas==2.2.3->ndn-compute==0.1) (2025.1)\n",
      "Requirement already satisfied: tzdata>=2022.7 in ./venv/lib/python3.11/site-packages (from pandas==2.2.3->ndn-compute==0.1) (2025.1)\n",
      "Requirement already satisfied: aenum<4.0.0,>=3.1.15 in ./venv/lib/python3.11/site-packages (from python-ndn==0.5.0->ndn-compute==0.1) (3.1.15)\n",
      "Requirement already satisfied: aiohttp<4.0.0,>=3.10.9 in ./venv/lib/python3.11/site-packages (from python-ndn==0.5.0->ndn-compute==0.1) (3.11.13)\n",
      "Requirement already satisfied: lark<2.0.0,>=1.2.2 in ./venv/lib/python3.11/site-packages (from python-ndn==0.5.0->ndn-compute==0.1) (1.2.2)\n",
      "Requirement already satisfied: pycryptodomex<4.0.0,>=3.21.0 in ./venv/lib/python3.11/site-packages (from python-ndn==0.5.0->ndn-compute==0.1) (3.21.0)\n",
      "Requirement already satisfied: pygtrie<3.0.0,>=2.5.0 in ./venv/lib/python3.11/site-packages (from python-ndn==0.5.0->ndn-compute==0.1) (2.5.0)\n",
      "Requirement already satisfied: aiohappyeyeballs>=2.3.0 in ./venv/lib/python3.11/site-packages (from aiohttp<4.0.0,>=3.10.9->python-ndn==0.5.0->ndn-compute==0.1) (2.4.6)\n",
      "Requirement already satisfied: aiosignal>=1.1.2 in ./venv/lib/python3.11/site-packages (from aiohttp<4.0.0,>=3.10.9->python-ndn==0.5.0->ndn-compute==0.1) (1.3.2)\n",
      "Requirement already satisfied: attrs>=17.3.0 in ./venv/lib/python3.11/site-packages (from aiohttp<4.0.0,>=3.10.9->python-ndn==0.5.0->ndn-compute==0.1) (25.1.0)\n",
      "Requirement already satisfied: frozenlist>=1.1.1 in ./venv/lib/python3.11/site-packages (from aiohttp<4.0.0,>=3.10.9->python-ndn==0.5.0->ndn-compute==0.1) (1.5.0)\n",
      "Requirement already satisfied: multidict<7.0,>=4.5 in ./venv/lib/python3.11/site-packages (from aiohttp<4.0.0,>=3.10.9->python-ndn==0.5.0->ndn-compute==0.1) (6.1.0)\n",
      "Requirement already satisfied: propcache>=0.2.0 in ./venv/lib/python3.11/site-packages (from aiohttp<4.0.0,>=3.10.9->python-ndn==0.5.0->ndn-compute==0.1) (0.3.0)\n",
      "Requirement already satisfied: yarl<2.0,>=1.17.0 in ./venv/lib/python3.11/site-packages (from aiohttp<4.0.0,>=3.10.9->python-ndn==0.5.0->ndn-compute==0.1) (1.18.3)\n",
      "Requirement already satisfied: six>=1.5 in ./venv/lib/python3.11/site-packages (from python-dateutil>=2.8.2->pandas==2.2.3->ndn-compute==0.1) (1.17.0)\n",
      "Requirement already satisfied: idna>=2.0 in ./venv/lib/python3.11/site-packages (from yarl<2.0,>=1.17.0->aiohttp<4.0.0,>=3.10.9->python-ndn==0.5.0->ndn-compute==0.1) (3.10)\n",
      "Building wheels for collected packages: ndn-compute\n",
      "  Building wheel for ndn-compute (pyproject.toml) ... \u001B[?25ldone\n",
      "\u001B[?25h  Created wheel for ndn-compute: filename=ndn_compute-0.1-py3-none-any.whl size=24835 sha256=4d5d935617194625f3949fb31515f2cc6564869cd2b5df39b383b36acf26d1d3\n",
      "  Stored in directory: /private/var/folders/x8/vn51j39n4ggf0j7pk0zk6vjh0000gn/T/pip-ephem-wheel-cache-yk39yz7a/wheels/a5/b5/9c/2f295dc3901a3c993c666f8c266e58a95f2800ba25612473db\n",
      "Successfully built ndn-compute\n",
      "Installing collected packages: ndn-compute\n",
      "  Attempting uninstall: ndn-compute\n",
      "    Found existing installation: ndn-compute 0.1\n",
      "    Uninstalling ndn-compute-0.1:\n",
      "      Successfully uninstalled ndn-compute-0.1\n",
      "Successfully installed ndn-compute-0.1\n",
      "\n",
      "\u001B[1m[\u001B[0m\u001B[34;49mnotice\u001B[0m\u001B[1;39;49m]\u001B[0m\u001B[39;49m A new release of pip is available: \u001B[0m\u001B[31;49m23.2.1\u001B[0m\u001B[39;49m -> \u001B[0m\u001B[32;49m25.0.1\u001B[0m\n",
      "\u001B[1m[\u001B[0m\u001B[34;49mnotice\u001B[0m\u001B[1;39;49m]\u001B[0m\u001B[39;49m To update, run: \u001B[0m\u001B[32;49mpip install --upgrade pip\u001B[0m\n",
      "Looking in links: ./pkg\n",
      "Processing ./pkg/ndn_compute_util\n",
      "  Installing build dependencies ... \u001B[?25ldone\n",
      "\u001B[?25h  Getting requirements to build wheel ... \u001B[?25ldone\n",
      "\u001B[?25h  Preparing metadata (pyproject.toml) ... \u001B[?25ldone\n",
      "\u001B[?25hRequirement already satisfied: python-ndn==0.5.0 in ./venv/lib/python3.11/site-packages (from ndn-compute-util==0.1) (0.5.0)\n",
      "Requirement already satisfied: aenum<4.0.0,>=3.1.15 in ./venv/lib/python3.11/site-packages (from python-ndn==0.5.0->ndn-compute-util==0.1) (3.1.15)\n",
      "Requirement already satisfied: aiohttp<4.0.0,>=3.10.9 in ./venv/lib/python3.11/site-packages (from python-ndn==0.5.0->ndn-compute-util==0.1) (3.11.13)\n",
      "Requirement already satisfied: lark<2.0.0,>=1.2.2 in ./venv/lib/python3.11/site-packages (from python-ndn==0.5.0->ndn-compute-util==0.1) (1.2.2)\n",
      "Requirement already satisfied: pycryptodomex<4.0.0,>=3.21.0 in ./venv/lib/python3.11/site-packages (from python-ndn==0.5.0->ndn-compute-util==0.1) (3.21.0)\n",
      "Requirement already satisfied: pygtrie<3.0.0,>=2.5.0 in ./venv/lib/python3.11/site-packages (from python-ndn==0.5.0->ndn-compute-util==0.1) (2.5.0)\n",
      "Requirement already satisfied: aiohappyeyeballs>=2.3.0 in ./venv/lib/python3.11/site-packages (from aiohttp<4.0.0,>=3.10.9->python-ndn==0.5.0->ndn-compute-util==0.1) (2.4.6)\n",
      "Requirement already satisfied: aiosignal>=1.1.2 in ./venv/lib/python3.11/site-packages (from aiohttp<4.0.0,>=3.10.9->python-ndn==0.5.0->ndn-compute-util==0.1) (1.3.2)\n",
      "Requirement already satisfied: attrs>=17.3.0 in ./venv/lib/python3.11/site-packages (from aiohttp<4.0.0,>=3.10.9->python-ndn==0.5.0->ndn-compute-util==0.1) (25.1.0)\n",
      "Requirement already satisfied: frozenlist>=1.1.1 in ./venv/lib/python3.11/site-packages (from aiohttp<4.0.0,>=3.10.9->python-ndn==0.5.0->ndn-compute-util==0.1) (1.5.0)\n",
      "Requirement already satisfied: multidict<7.0,>=4.5 in ./venv/lib/python3.11/site-packages (from aiohttp<4.0.0,>=3.10.9->python-ndn==0.5.0->ndn-compute-util==0.1) (6.1.0)\n",
      "Requirement already satisfied: propcache>=0.2.0 in ./venv/lib/python3.11/site-packages (from aiohttp<4.0.0,>=3.10.9->python-ndn==0.5.0->ndn-compute-util==0.1) (0.3.0)\n",
      "Requirement already satisfied: yarl<2.0,>=1.17.0 in ./venv/lib/python3.11/site-packages (from aiohttp<4.0.0,>=3.10.9->python-ndn==0.5.0->ndn-compute-util==0.1) (1.18.3)\n",
      "Requirement already satisfied: idna>=2.0 in ./venv/lib/python3.11/site-packages (from yarl<2.0,>=1.17.0->aiohttp<4.0.0,>=3.10.9->python-ndn==0.5.0->ndn-compute-util==0.1) (3.10)\n",
      "Building wheels for collected packages: ndn-compute-util\n",
      "  Building wheel for ndn-compute-util (pyproject.toml) ... \u001B[?25ldone\n",
      "\u001B[?25h  Created wheel for ndn-compute-util: filename=ndn_compute_util-0.1-py3-none-any.whl size=8191 sha256=2327fb939f7e80c9783a6846df6dd0377b652838b0e4e285351cd3f87d8b053b\n",
      "  Stored in directory: /private/var/folders/x8/vn51j39n4ggf0j7pk0zk6vjh0000gn/T/pip-ephem-wheel-cache-xr552sx4/wheels/60/06/02/4c2eaa95a3a2ca827aebc95a1acb5098b587f7ceaf96b09ef6\n",
      "Successfully built ndn-compute-util\n",
      "Installing collected packages: ndn-compute-util\n",
      "  Attempting uninstall: ndn-compute-util\n",
      "    Found existing installation: ndn-compute-util 0.1\n",
      "    Uninstalling ndn-compute-util-0.1:\n",
      "      Successfully uninstalled ndn-compute-util-0.1\n",
      "Successfully installed ndn-compute-util-0.1\n",
      "\n",
      "\u001B[1m[\u001B[0m\u001B[34;49mnotice\u001B[0m\u001B[1;39;49m]\u001B[0m\u001B[39;49m A new release of pip is available: \u001B[0m\u001B[31;49m23.2.1\u001B[0m\u001B[39;49m -> \u001B[0m\u001B[32;49m25.0.1\u001B[0m\n",
      "\u001B[1m[\u001B[0m\u001B[34;49mnotice\u001B[0m\u001B[1;39;49m]\u001B[0m\u001B[39;49m To update, run: \u001B[0m\u001B[32;49mpip install --upgrade pip\u001B[0m\n"
     ]
    }
   ],
   "source": [
    "# Install packages\n",
    "!bash -c 'cd ..; for dir in ./pkg/*/; do [ -d \"$dir\" ] && pip install --find-links=./pkg \"$dir\"; done'"
   ]
  },
  {
   "cell_type": "markdown",
   "id": "95e205616fc86f7a",
   "metadata": {},
   "source": [
    "### Security Setup"
   ]
  },
  {
   "cell_type": "code",
   "execution_count": 7,
   "id": "7f7172c3a2722764",
   "metadata": {
    "ExecuteTime": {
     "end_time": "2025-03-04T00:38:30.196364Z",
     "start_time": "2025-03-04T00:38:30.090828Z"
    }
   },
   "outputs": [],
   "source": [
    "import os\n",
    "import shutil\n",
    "from ndn_compute_key_creator import create_keys\n",
    "\n",
    "if any(not os.path.isdir(f'../sec_data/{dir}') for dir in ['certs', 'driver', 'worker']):\n",
    "    if os.path.isdir('../sec_data'):\n",
    "        shutil.rmtree('../sec_data')\n",
    "        \n",
    "    create_keys('../sec_data/')"
   ]
  },
  {
   "cell_type": "markdown",
   "id": "4173ef2ffc91d9e0",
   "metadata": {},
   "source": [
    "### Generate Data"
   ]
  },
  {
   "cell_type": "code",
   "execution_count": 8,
   "id": "406bd355603879b1",
   "metadata": {
    "ExecuteTime": {
     "end_time": "2025-03-04T00:38:31.884378Z",
     "start_time": "2025-03-04T00:38:31.879490Z"
    }
   },
   "outputs": [],
   "source": [
    "from ndn_compute_jsonl_generator import generate_large_jsonl\n",
    "from ndn_compute_fs_creator import create_fs_from_directory"
   ]
  },
  {
   "cell_type": "code",
   "execution_count": 9,
   "id": "762c89a07241883a",
   "metadata": {
    "ExecuteTime": {
     "end_time": "2025-03-04T00:39:02.268028Z",
     "start_time": "2025-03-04T00:38:34.827594Z"
    }
   },
   "outputs": [
    {
     "name": "stdout",
     "output_type": "stream",
     "text": [
      "Generating JSONL file of approximately 200MB...\n",
      "Progress: 22.76% complete\n",
      "Records written: 100,000\n",
      "Current file size: 45.51MB\n",
      "Progress: 45.51% complete\n",
      "Records written: 200,000\n",
      "Current file size: 91.03MB\n",
      "Progress: 68.27% complete\n",
      "Records written: 300,000\n",
      "Current file size: 136.55MB\n",
      "Progress: 91.03% complete\n",
      "Records written: 400,000\n",
      "Current file size: 182.06MB\n",
      "\n",
      "File generation complete!\n",
      "Final file size: 200.00MB\n",
      "Total records written: 439,417\n",
      "Generating JSONL file of approximately 500MB...\n",
      "Progress: 9.10% complete\n",
      "Records written: 100,000\n",
      "Current file size: 45.51MB\n",
      "Progress: 18.21% complete\n",
      "Records written: 200,000\n",
      "Current file size: 91.03MB\n",
      "Progress: 27.31% complete\n",
      "Records written: 300,000\n",
      "Current file size: 136.55MB\n",
      "Progress: 36.41% complete\n",
      "Records written: 400,000\n",
      "Current file size: 182.06MB\n",
      "Progress: 45.52% complete\n",
      "Records written: 500,000\n",
      "Current file size: 227.58MB\n",
      "Progress: 54.62% complete\n",
      "Records written: 600,000\n",
      "Current file size: 273.10MB\n",
      "Progress: 63.72% complete\n",
      "Records written: 700,000\n",
      "Current file size: 318.61MB\n",
      "Progress: 72.82% complete\n",
      "Records written: 800,000\n",
      "Current file size: 364.12MB\n",
      "Progress: 81.93% complete\n",
      "Records written: 900,000\n",
      "Current file size: 409.64MB\n",
      "Progress: 91.03% complete\n",
      "Records written: 1,000,000\n",
      "Current file size: 455.16MB\n",
      "\n",
      "File generation complete!\n",
      "Final file size: 500.01MB\n",
      "Total records written: 1,098,524\n"
     ]
    }
   ],
   "source": [
    "# Generate flat files\n",
    "!mkdir -p ../generated_data/flat/appA\n",
    "!mkdir -p ../generated_data/flat/appB\n",
    "\n",
    "generate_large_jsonl(filename='../generated_data/flat/appA/events.log.jsonl', target_size_mb=200)\n",
    "generate_large_jsonl(filename='../generated_data/flat/appB/events.log.jsonl', target_size_mb=500)"
   ]
  },
  {
   "cell_type": "code",
   "execution_count": 10,
   "id": "9ec63cc9551ba5c3",
   "metadata": {
    "ExecuteTime": {
     "end_time": "2025-03-04T00:39:19.793829Z",
     "start_time": "2025-03-04T00:39:18.141095Z"
    }
   },
   "outputs": [
    {
     "name": "stdout",
     "output_type": "stream",
     "text": [
      "../generated_data/flat/appB/events.log.jsonl\n",
      "../generated_data/flat/appA/events.log.jsonl\n"
     ]
    }
   ],
   "source": [
    "# Distribute files into a toy distributed filesystem\n",
    "\n",
    "!mkdir -p ../generated_data/distributed\n",
    "create_fs_from_directory(in_dir=\"../generated_data/flat\",\n",
    "                         out_dir=\"../generated_data/distributed\",\n",
    "                         num_partitions=2,\n",
    "                         num_copies=1,\n",
    "                         chunk_size=64\n",
    "                         )"
   ]
  },
  {
   "cell_type": "markdown",
   "id": "40ce85dca7a8a19",
   "metadata": {},
   "source": [
    "### Starting the cluster\n",
    "\n",
    "Please run `docker-compose up` in another terminal (from the `ndn-compute` repository root) so that you can see the stdout output in the foreground."
   ]
  },
  {
   "cell_type": "code",
   "execution_count": 2,
   "id": "db5b3783ae93e503",
   "metadata": {
    "ExecuteTime": {
     "end_time": "2025-03-04T00:39:36.268228Z",
     "start_time": "2025-03-04T00:39:36.101359Z"
    }
   },
   "outputs": [
    {
     "name": "stdout",
     "output_type": "stream",
     "text": [
      "NAME      IMAGE                 COMMAND                  SERVICE   CREATED             STATUS         PORTS\n",
      "driver1   ndn-compute-driver    \"python -m ndn_compu…\"   driver    3 minutes ago       Up 3 minutes   0.0.0.0:5214->5214/tcp, :::5214->5214/tcp\n",
      "nfd1      ndn-compute-nfd       \"/usr/bin/nfd --conf…\"   nfd       About an hour ago   Up 3 minutes   6363/tcp, 9696/tcp, 6363/udp\n",
      "worker1   ndn-compute-worker1   \"python -m ndn_compu…\"   worker1   3 minutes ago       Up 3 minutes   \n",
      "worker2   ndn-compute-worker2   \"python -m ndn_compu…\"   worker2   3 minutes ago       Up 3 minutes   \n"
     ]
    }
   ],
   "source": [
    "# !docker-compose up\n",
    "\n",
    "# Make sure your cluster is running\n",
    "!docker-compose ps"
   ]
  },
  {
   "cell_type": "markdown",
   "id": "49ecd798b281e09f",
   "metadata": {},
   "source": [
    "IMPORTANT: You should see a driver, NFD, and worker(s) up"
   ]
  },
  {
   "cell_type": "markdown",
   "id": "1a26af33e91beac8",
   "metadata": {},
   "source": [
    "### Using the engine"
   ]
  },
  {
   "cell_type": "code",
   "id": "6261d125969cc0ed",
   "metadata": {
    "ExecuteTime": {
     "end_time": "2025-03-12T18:16:38.799208Z",
     "start_time": "2025-03-12T18:16:38.542383Z"
    }
   },
   "source": [
    "from ndn_compute_client import NdnComputeClient"
   ],
   "outputs": [],
   "execution_count": 1
  },
  {
   "cell_type": "code",
   "id": "4ba0ab7e3ddcd29c",
   "metadata": {
    "ExecuteTime": {
     "end_time": "2025-03-12T18:16:39.414549Z",
     "start_time": "2025-03-12T18:16:39.412167Z"
    }
   },
   "source": [
    "client = NdnComputeClient('http://localhost:5214')"
   ],
   "outputs": [],
   "execution_count": 2
  },
  {
   "metadata": {},
   "cell_type": "markdown",
   "source": "#### Component Sanity Checks",
   "id": "5d51e886ba2c9503"
  },
  {
   "cell_type": "code",
   "execution_count": 5,
   "id": "4a034411bd48714e",
   "metadata": {
    "ExecuteTime": {
     "end_time": "2025-03-04T00:39:56.362206Z",
     "start_time": "2025-03-04T00:39:56.344165Z"
    }
   },
   "outputs": [
    {
     "data": {
      "text/plain": [
       "17"
      ]
     },
     "execution_count": 5,
     "metadata": {},
     "output_type": "execute_result"
    }
   ],
   "source": [
    "# Trivial test to make sure driver and worker are talking to each other\n",
    "client.add(8, 9)"
   ]
  },
  {
   "cell_type": "code",
   "execution_count": 17,
   "id": "ca54d79494f88c01",
   "metadata": {
    "ExecuteTime": {
     "end_time": "2025-03-04T00:40:44.895093Z",
     "start_time": "2025-03-04T00:40:07.595398Z"
    }
   },
   "outputs": [
    {
     "name": "stdout",
     "output_type": "stream",
     "text": [
      "3354918877\n"
     ]
    }
   ],
   "source": [
    "# Test to make sure result store and large transfers are working\n",
    "import zlib\n",
    "random_bytes = client.urandom() # This may take a while\n",
    "print(zlib.crc32(random_bytes)) # Does it match what was computed worker-side? (See docker logs)"
   ]
  },
  {
   "metadata": {},
   "cell_type": "markdown",
   "source": "#### Run Distributed Computations on Example dataset",
   "id": "383355b02419dc41"
  },
  {
   "cell_type": "code",
   "id": "f3579e29894fdb29",
   "metadata": {
    "ExecuteTime": {
     "end_time": "2025-03-12T18:16:44.379196Z",
     "start_time": "2025-03-12T18:16:44.376446Z"
    }
   },
   "source": [
    "# Create dataset from remote file\n",
    "dataset = client.create_dataset(\"appB/events.log.jsonl\")"
   ],
   "outputs": [],
   "execution_count": 3
  },
  {
   "metadata": {
    "ExecuteTime": {
     "end_time": "2025-03-12T18:16:58.388378Z",
     "start_time": "2025-03-12T18:16:46.172077Z"
    }
   },
   "cell_type": "code",
   "source": [
    "# Do a transformation, like filter\n",
    "pred = lambda row: row['event_type'] == 'purchase' and row['device'] == 'tablet' and row['browser'] == 'safari'\n",
    "ipad_purchases = dataset.filter(pred).collect()"
   ],
   "id": "40348603ce4c95de",
   "outputs": [],
   "execution_count": 4
  },
  {
   "metadata": {
    "ExecuteTime": {
     "end_time": "2025-03-12T18:17:00.555661Z",
     "start_time": "2025-03-12T18:17:00.544641Z"
    }
   },
   "cell_type": "code",
   "source": "ipad_purchases.head()",
   "id": "aec178948db37f02",
   "outputs": [
    {
     "data": {
      "text/plain": [
       "                 id               timestamp   user_id event_type  device  \\\n",
       "0  SJ4pOPr6MJIjPbVW 2024-04-30 16:38:42.701  8IgVthq7   purchase  tablet   \n",
       "1  tryk1tLK1L0krcSG 2024-12-19 16:38:42.703  iTl4HFp0   purchase  tablet   \n",
       "2  WWwDFPubXDrB8gQ7 2024-10-17 16:38:42.703  thgUyh9g   purchase  tablet   \n",
       "3  gBJ3FgDRMtdCwLRR 2024-07-24 16:38:42.706  DcjXeWME   purchase  tablet   \n",
       "4  DnQxtLPtzf9t4aPq 2024-03-08 16:38:42.706  bEdrEKEC   purchase  tablet   \n",
       "\n",
       "  browser                                           location  \\\n",
       "0  safari  {'country': 'JP', 'city': 'Tokyo', 'latitude':...   \n",
       "1  safari  {'country': 'JP', 'city': 'New York', 'latitud...   \n",
       "2  safari  {'country': 'JP', 'city': 'Paris', 'latitude':...   \n",
       "3  safari  {'country': 'FR', 'city': 'Sydney', 'latitude'...   \n",
       "4  safari  {'country': 'FR', 'city': 'London', 'latitude'...   \n",
       "\n",
       "   session_duration                                           metadata  \n",
       "0              3297  {'platform_version': '8.7.4', 'user_agent': 'J...  \n",
       "1               326  {'platform_version': '1.8.2', 'user_agent': 'b...  \n",
       "2              2179  {'platform_version': '10.4.4', 'user_agent': '...  \n",
       "3               361  {'platform_version': '4.2.4', 'user_agent': 'l...  \n",
       "4              3019  {'platform_version': '5.9.6', 'user_agent': 'l...  "
      ],
      "text/html": [
       "<div>\n",
       "<style scoped>\n",
       "    .dataframe tbody tr th:only-of-type {\n",
       "        vertical-align: middle;\n",
       "    }\n",
       "\n",
       "    .dataframe tbody tr th {\n",
       "        vertical-align: top;\n",
       "    }\n",
       "\n",
       "    .dataframe thead th {\n",
       "        text-align: right;\n",
       "    }\n",
       "</style>\n",
       "<table border=\"1\" class=\"dataframe\">\n",
       "  <thead>\n",
       "    <tr style=\"text-align: right;\">\n",
       "      <th></th>\n",
       "      <th>id</th>\n",
       "      <th>timestamp</th>\n",
       "      <th>user_id</th>\n",
       "      <th>event_type</th>\n",
       "      <th>device</th>\n",
       "      <th>browser</th>\n",
       "      <th>location</th>\n",
       "      <th>session_duration</th>\n",
       "      <th>metadata</th>\n",
       "    </tr>\n",
       "  </thead>\n",
       "  <tbody>\n",
       "    <tr>\n",
       "      <th>0</th>\n",
       "      <td>SJ4pOPr6MJIjPbVW</td>\n",
       "      <td>2024-04-30 16:38:42.701</td>\n",
       "      <td>8IgVthq7</td>\n",
       "      <td>purchase</td>\n",
       "      <td>tablet</td>\n",
       "      <td>safari</td>\n",
       "      <td>{'country': 'JP', 'city': 'Tokyo', 'latitude':...</td>\n",
       "      <td>3297</td>\n",
       "      <td>{'platform_version': '8.7.4', 'user_agent': 'J...</td>\n",
       "    </tr>\n",
       "    <tr>\n",
       "      <th>1</th>\n",
       "      <td>tryk1tLK1L0krcSG</td>\n",
       "      <td>2024-12-19 16:38:42.703</td>\n",
       "      <td>iTl4HFp0</td>\n",
       "      <td>purchase</td>\n",
       "      <td>tablet</td>\n",
       "      <td>safari</td>\n",
       "      <td>{'country': 'JP', 'city': 'New York', 'latitud...</td>\n",
       "      <td>326</td>\n",
       "      <td>{'platform_version': '1.8.2', 'user_agent': 'b...</td>\n",
       "    </tr>\n",
       "    <tr>\n",
       "      <th>2</th>\n",
       "      <td>WWwDFPubXDrB8gQ7</td>\n",
       "      <td>2024-10-17 16:38:42.703</td>\n",
       "      <td>thgUyh9g</td>\n",
       "      <td>purchase</td>\n",
       "      <td>tablet</td>\n",
       "      <td>safari</td>\n",
       "      <td>{'country': 'JP', 'city': 'Paris', 'latitude':...</td>\n",
       "      <td>2179</td>\n",
       "      <td>{'platform_version': '10.4.4', 'user_agent': '...</td>\n",
       "    </tr>\n",
       "    <tr>\n",
       "      <th>3</th>\n",
       "      <td>gBJ3FgDRMtdCwLRR</td>\n",
       "      <td>2024-07-24 16:38:42.706</td>\n",
       "      <td>DcjXeWME</td>\n",
       "      <td>purchase</td>\n",
       "      <td>tablet</td>\n",
       "      <td>safari</td>\n",
       "      <td>{'country': 'FR', 'city': 'Sydney', 'latitude'...</td>\n",
       "      <td>361</td>\n",
       "      <td>{'platform_version': '4.2.4', 'user_agent': 'l...</td>\n",
       "    </tr>\n",
       "    <tr>\n",
       "      <th>4</th>\n",
       "      <td>DnQxtLPtzf9t4aPq</td>\n",
       "      <td>2024-03-08 16:38:42.706</td>\n",
       "      <td>bEdrEKEC</td>\n",
       "      <td>purchase</td>\n",
       "      <td>tablet</td>\n",
       "      <td>safari</td>\n",
       "      <td>{'country': 'FR', 'city': 'London', 'latitude'...</td>\n",
       "      <td>3019</td>\n",
       "      <td>{'platform_version': '5.9.6', 'user_agent': 'l...</td>\n",
       "    </tr>\n",
       "  </tbody>\n",
       "</table>\n",
       "</div>"
      ]
     },
     "execution_count": 5,
     "metadata": {},
     "output_type": "execute_result"
    }
   ],
   "execution_count": 5
  },
  {
   "metadata": {
    "ExecuteTime": {
     "end_time": "2025-03-12T18:17:05.861100Z",
     "start_time": "2025-03-12T18:17:03.712711Z"
    }
   },
   "cell_type": "code",
   "source": [
    "# Stress test:\n",
    "dataset = client.create_dataset(\"appA/events.log.jsonl\")\n",
    "# Transform data\n",
    "id_lens = dataset.map(lambda r: len(str(r)))\n",
    "id_lens_cached = id_lens.cache() # Cache it to materialize results\n",
    "\n",
    "# Transform data again\n",
    "id_lens_plus_one = id_lens_cached.map(lambda r: r + 1)\n",
    "id_lens_plus_one_cached = id_lens_plus_one.cache() # Cache it to materialize results, but using previous cache"
   ],
   "id": "ffd31c7b60dc38e5",
   "outputs": [],
   "execution_count": 6
  },
  {
   "cell_type": "code",
   "id": "7ea78b32",
   "metadata": {
    "ExecuteTime": {
     "end_time": "2025-03-12T18:17:27.958643Z",
     "start_time": "2025-03-12T18:17:16.904727Z"
    }
   },
   "source": "df = id_lens_plus_one_cached.collect()",
   "outputs": [],
   "execution_count": 7
  },
  {
   "cell_type": "code",
   "id": "1d3a82d0",
   "metadata": {
    "ExecuteTime": {
     "end_time": "2025-03-12T18:17:30.469539Z",
     "start_time": "2025-03-12T18:17:30.465767Z"
    }
   },
   "source": "df.shape",
   "outputs": [
    {
     "data": {
      "text/plain": [
       "(439417, 9)"
      ]
     },
     "execution_count": 8,
     "metadata": {},
     "output_type": "execute_result"
    }
   ],
   "execution_count": 8
  },
  {
   "metadata": {
    "ExecuteTime": {
     "end_time": "2025-03-12T18:17:31.427436Z",
     "start_time": "2025-03-12T18:17:31.422104Z"
    }
   },
   "cell_type": "code",
   "source": "df.head()",
   "id": "da34c8b2e61c6849",
   "outputs": [
    {
     "data": {
      "text/plain": [
       "   id  timestamp  user_id  event_type  device  browser  location  \\\n",
       "0  17         27        9           9       7        7        99   \n",
       "1  17         27        9           9       8        8       101   \n",
       "2  17         27        9           7       7        8       100   \n",
       "3  17         27        9          10       7        5        99   \n",
       "4  17         27        9           6       7        8       100   \n",
       "\n",
       "   session_duration  metadata  \n",
       "0                 4       166  \n",
       "1                 4       166  \n",
       "2                 4       166  \n",
       "3                 5       167  \n",
       "4                 4       166  "
      ],
      "text/html": [
       "<div>\n",
       "<style scoped>\n",
       "    .dataframe tbody tr th:only-of-type {\n",
       "        vertical-align: middle;\n",
       "    }\n",
       "\n",
       "    .dataframe tbody tr th {\n",
       "        vertical-align: top;\n",
       "    }\n",
       "\n",
       "    .dataframe thead th {\n",
       "        text-align: right;\n",
       "    }\n",
       "</style>\n",
       "<table border=\"1\" class=\"dataframe\">\n",
       "  <thead>\n",
       "    <tr style=\"text-align: right;\">\n",
       "      <th></th>\n",
       "      <th>id</th>\n",
       "      <th>timestamp</th>\n",
       "      <th>user_id</th>\n",
       "      <th>event_type</th>\n",
       "      <th>device</th>\n",
       "      <th>browser</th>\n",
       "      <th>location</th>\n",
       "      <th>session_duration</th>\n",
       "      <th>metadata</th>\n",
       "    </tr>\n",
       "  </thead>\n",
       "  <tbody>\n",
       "    <tr>\n",
       "      <th>0</th>\n",
       "      <td>17</td>\n",
       "      <td>27</td>\n",
       "      <td>9</td>\n",
       "      <td>9</td>\n",
       "      <td>7</td>\n",
       "      <td>7</td>\n",
       "      <td>99</td>\n",
       "      <td>4</td>\n",
       "      <td>166</td>\n",
       "    </tr>\n",
       "    <tr>\n",
       "      <th>1</th>\n",
       "      <td>17</td>\n",
       "      <td>27</td>\n",
       "      <td>9</td>\n",
       "      <td>9</td>\n",
       "      <td>8</td>\n",
       "      <td>8</td>\n",
       "      <td>101</td>\n",
       "      <td>4</td>\n",
       "      <td>166</td>\n",
       "    </tr>\n",
       "    <tr>\n",
       "      <th>2</th>\n",
       "      <td>17</td>\n",
       "      <td>27</td>\n",
       "      <td>9</td>\n",
       "      <td>7</td>\n",
       "      <td>7</td>\n",
       "      <td>8</td>\n",
       "      <td>100</td>\n",
       "      <td>4</td>\n",
       "      <td>166</td>\n",
       "    </tr>\n",
       "    <tr>\n",
       "      <th>3</th>\n",
       "      <td>17</td>\n",
       "      <td>27</td>\n",
       "      <td>9</td>\n",
       "      <td>10</td>\n",
       "      <td>7</td>\n",
       "      <td>5</td>\n",
       "      <td>99</td>\n",
       "      <td>5</td>\n",
       "      <td>167</td>\n",
       "    </tr>\n",
       "    <tr>\n",
       "      <th>4</th>\n",
       "      <td>17</td>\n",
       "      <td>27</td>\n",
       "      <td>9</td>\n",
       "      <td>6</td>\n",
       "      <td>7</td>\n",
       "      <td>8</td>\n",
       "      <td>100</td>\n",
       "      <td>4</td>\n",
       "      <td>166</td>\n",
       "    </tr>\n",
       "  </tbody>\n",
       "</table>\n",
       "</div>"
      ]
     },
     "execution_count": 9,
     "metadata": {},
     "output_type": "execute_result"
    }
   ],
   "execution_count": 9
  },
  {
   "metadata": {},
   "cell_type": "code",
   "outputs": [],
   "execution_count": null,
   "source": "",
   "id": "762b23c0f93f818f"
  }
 ],
 "metadata": {
  "kernelspec": {
   "display_name": "venv",
   "language": "python",
   "name": "python3"
  },
  "language_info": {
   "codemirror_mode": {
    "name": "ipython",
    "version": 3
   },
   "file_extension": ".py",
   "mimetype": "text/x-python",
   "name": "python",
   "nbconvert_exporter": "python",
   "pygments_lexer": "ipython3",
   "version": "3.11.6"
  }
 },
 "nbformat": 4,
 "nbformat_minor": 5
}

{
 "cells": [
  {
   "metadata": {},
   "cell_type": "markdown",
   "source": "# Data Availability (Replication) Microbenchmark",
   "id": "74cea469ac7bbd12"
  },
  {
   "cell_type": "code",
   "id": "initial_id",
   "metadata": {
    "collapsed": true,
    "ExecuteTime": {
     "end_time": "2025-03-15T21:57:23.466712Z",
     "start_time": "2025-03-15T21:57:23.333348Z"
    }
   },
   "source": [
    "# Move one directory up, so we are in the repository root\n",
    "import os\n",
    "\n",
    "if not 'CHDIR_EXECUTED' in globals():  # Keep chdir idempotent, don't keep going up\n",
    "    os.chdir('..')\n",
    "    CHDIR_EXECUTED = True\n",
    "    \n",
    "!basename \"$(pwd)\""
   ],
   "outputs": [
    {
     "name": "stdout",
     "output_type": "stream",
     "text": [
      "ndn-compute\r\n"
     ]
    }
   ],
   "execution_count": 1
  },
  {
   "metadata": {
    "ExecuteTime": {
     "end_time": "2025-03-15T21:57:23.472833Z",
     "start_time": "2025-03-15T21:57:23.468287Z"
    }
   },
   "cell_type": "code",
   "source": [
    "import time\n",
    "from functools import wraps\n",
    "from typing import Callable, TypeVar, Any\n",
    "\n",
    "T = TypeVar('T')\n",
    "\n",
    "def time_function(func: Callable[..., T]) -> Callable[..., tuple[T, float]]:\n",
    "    @wraps(func)\n",
    "    def wrapper(*args, **kwargs) -> tuple[T, float]:\n",
    "        start_time = time.time()\n",
    "        result = func(*args, **kwargs)\n",
    "        end_time = time.time()\n",
    "        \n",
    "        print(f\"{func.__name__} executed in {end_time - start_time:.6f} seconds\")\n",
    "        return result, (end_time - start_time)\n",
    "    \n",
    "    return wrapper\n",
    "\n",
    "import contextlib\n",
    "import sys\n",
    "\n",
    "class DummyFile(object):\n",
    "    def write(self, x): pass\n",
    "\n",
    "# Credit: https://stackoverflow.com/a/2829036\n",
    "@contextlib.contextmanager\n",
    "def no_stdout():\n",
    "    save_stdout = sys.stdout\n",
    "    sys.stdout = DummyFile()\n",
    "    yield\n",
    "    sys.stdout = save_stdout"
   ],
   "id": "a15814d33cb8ac34",
   "outputs": [],
   "execution_count": 2
  },
  {
   "metadata": {
    "ExecuteTime": {
     "end_time": "2025-03-15T21:57:23.705558Z",
     "start_time": "2025-03-15T21:57:23.473996Z"
    }
   },
   "cell_type": "code",
   "source": [
    "from ndn_compute_fs_creator import create_fs_from_directory\n",
    "from ndn_compute_cluster_manager import run_ndn_compute_cluster, stop_ndn_compute_cluster\n",
    "from ndn_compute_client import NdnComputeClient"
   ],
   "id": "10f19afb14baf4f4",
   "outputs": [],
   "execution_count": 3
  },
  {
   "metadata": {
    "ExecuteTime": {
     "end_time": "2025-03-15T21:57:23.708654Z",
     "start_time": "2025-03-15T21:57:23.706438Z"
    }
   },
   "cell_type": "code",
   "source": [
    "@time_function\n",
    "def do_compute(client):\n",
    "    dataset = client.create_dataset(\"appA/events.log.jsonl\")\n",
    "    pred = lambda row: row['event_type'] == 'purchase' and row['device'] == 'tablet' and row['browser'] == 'safari'\n",
    "    dataset.filter(pred).collect()"
   ],
   "id": "e4d582b38a1dcc32",
   "outputs": [],
   "execution_count": 4
  },
  {
   "metadata": {
    "ExecuteTime": {
     "start_time": "2025-03-15T21:57:23.710116Z"
    }
   },
   "cell_type": "code",
   "source": [
    "compute_times = list()\n",
    "\n",
    "for num_copies in range(1, 8+1):\n",
    "    !rm -rf generated_data/distributed\n",
    "    !mkdir -p generated_data/distributed\n",
    "    create_fs_from_directory(in_dir=\"generated_data/flat\",\n",
    "                             out_dir=\"generated_data/distributed\",\n",
    "                             num_partitions=16,\n",
    "                             num_copies=num_copies,\n",
    "                             chunk_size=32\n",
    "                             )\n",
    "    \n",
    "    # not sure why docker desktop is freaking out about mounting :(\n",
    "    print(\"Restarting Docker...\")\n",
    "    !docker desktop restart > /dev/null\n",
    "    \n",
    "    print(\"Creating containers...\")\n",
    "    with no_stdout():\n",
    "        run_ndn_compute_cluster(num_workers=16, rebuild=False)\n",
    "    \n",
    "    client = NdnComputeClient('http://localhost:5214')\n",
    "    result = do_compute(client)\n",
    "    compute_times.append(result[1])"
   ],
   "id": "a50d2ece3ba22ae3",
   "outputs": [
    {
     "name": "stdout",
     "output_type": "stream",
     "text": [
      "generated_data/flat/appA/events.log.jsonl\n",
      "Restarting Docker...\n",
      "Creating containers...\n",
      "do_compute executed in 4.465856 seconds\n",
      "generated_data/flat/appA/events.log.jsonl\n",
      "Restarting Docker...\n",
      "Creating containers...\n",
      "do_compute executed in 5.723357 seconds\n",
      "generated_data/flat/appA/events.log.jsonl\n",
      "Restarting Docker...\n",
      "Creating containers...\n",
      "do_compute executed in 3.514460 seconds\n",
      "generated_data/flat/appA/events.log.jsonl\n",
      "Restarting Docker...\n",
      "Creating containers...\n",
      "do_compute executed in 3.392266 seconds\n",
      "generated_data/flat/appA/events.log.jsonl\n",
      "Restarting Docker...\n",
      "Creating containers...\n"
     ]
    }
   ],
   "execution_count": null
  },
  {
   "metadata": {},
   "cell_type": "code",
   "outputs": [],
   "execution_count": null,
   "source": "",
   "id": "55bdfc120b05b55b"
  }
 ],
 "metadata": {
  "kernelspec": {
   "display_name": "Python 3",
   "language": "python",
   "name": "python3"
  },
  "language_info": {
   "codemirror_mode": {
    "name": "ipython",
    "version": 2
   },
   "file_extension": ".py",
   "mimetype": "text/x-python",
   "name": "python",
   "nbconvert_exporter": "python",
   "pygments_lexer": "ipython2",
   "version": "2.7.6"
  }
 },
 "nbformat": 4,
 "nbformat_minor": 5
}

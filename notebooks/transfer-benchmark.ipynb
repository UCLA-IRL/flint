{
 "cells": [
  {
   "metadata": {},
   "cell_type": "markdown",
   "source": "# RDD Transfer Microbenchmark",
   "id": "9cf2a7ce9b202d56"
  },
  {
   "cell_type": "code",
   "id": "initial_id",
   "metadata": {
    "collapsed": true,
    "ExecuteTime": {
     "end_time": "2025-03-12T06:10:54.303774Z",
     "start_time": "2025-03-12T06:10:54.295326Z"
    }
   },
   "source": [
    "import time\n",
    "from functools import wraps\n",
    "from typing import Callable, TypeVar, Any\n",
    "\n",
    "T = TypeVar('T')\n",
    "\n",
    "def time_function(func: Callable[..., T]) -> Callable[..., T]:\n",
    "    @wraps(func)\n",
    "    def wrapper(*args, **kwargs) -> T:\n",
    "        start_time = time.time()\n",
    "        result = func(*args, **kwargs)\n",
    "        end_time = time.time()\n",
    "        \n",
    "        print(f\"{func.__name__} executed in {end_time - start_time:.6f} seconds\")\n",
    "        return result\n",
    "    \n",
    "    return wrapper"
   ],
   "outputs": [],
   "execution_count": 1
  },
  {
   "metadata": {
    "ExecuteTime": {
     "end_time": "2025-03-12T06:13:17.974078Z",
     "start_time": "2025-03-12T06:13:17.966463Z"
    }
   },
   "cell_type": "code",
   "source": [
    "# IMPORTANT: This code assumes you've done the preparation-related steps in getting-started.ipynb\n",
    "\n",
    "from ndn_compute_client import NdnComputeClient\n",
    "client = NdnComputeClient('http://localhost:5214')"
   ],
   "id": "dea14613f9496a6f",
   "outputs": [],
   "execution_count": 5
  },
  {
   "metadata": {
    "ExecuteTime": {
     "end_time": "2025-03-12T06:20:28.574242Z",
     "start_time": "2025-03-12T06:20:28.570988Z"
    }
   },
   "cell_type": "code",
   "source": [
    "import zlib\n",
    "\n",
    "@time_function\n",
    "def fetch_urandom():\n",
    "    random_bytes = client.urandom()\n",
    "    print(zlib.crc32(random_bytes))"
   ],
   "id": "2f908c6bc1651f4a",
   "outputs": [],
   "execution_count": 18
  },
  {
   "metadata": {
    "ExecuteTime": {
     "end_time": "2025-03-12T06:21:07.352906Z",
     "start_time": "2025-03-12T06:20:28.576057Z"
    }
   },
   "cell_type": "code",
   "source": [
    "# Pass 1: not cached in NFD\n",
    "fetch_urandom()"
   ],
   "id": "968573bf13b9b78e",
   "outputs": [
    {
     "name": "stdout",
     "output_type": "stream",
     "text": [
      "250185802\n",
      "fetch_urandom executed in 38.774592 seconds\n"
     ]
    }
   ],
   "execution_count": 19
  },
  {
   "metadata": {
    "ExecuteTime": {
     "end_time": "2025-03-12T06:21:24.542180Z",
     "start_time": "2025-03-12T06:21:07.353875Z"
    }
   },
   "cell_type": "code",
   "source": [
    "# Pass 2: in NFD content-store\n",
    "fetch_urandom()"
   ],
   "id": "ce737e06ba04defd",
   "outputs": [
    {
     "name": "stdout",
     "output_type": "stream",
     "text": [
      "250185802\n",
      "fetch_urandom executed in 17.186113 seconds\n"
     ]
    }
   ],
   "execution_count": 20
  },
  {
   "metadata": {},
   "cell_type": "markdown",
   "source": [
    "## Results:\n",
    "\n",
    "Note that I need to restart NFD between trials, so the above code isn't in a loop.\n",
    "\n",
    "\n",
    "\n",
    "|           | Pass 1 (not cached in NFD) | Pass 2 (in NFD content-store) |\n",
    "|-----------|----------------------------|-------------------------------|\n",
    "| 1         | 33.348039                  | 14.590795                     |\n",
    "| 2         | 33.509490                  | 15.388483                     |\n",
    "| 3         | 35.397389                  | 16.286589                     |\n",
    "| 4         | 34.809988                  | 14.662206                     |\n",
    "| 5         | 38.774592                  | 17.186113                     |\n",
    "| **Mean**  | 35.17                      | 15.62                         |\n",
    "| **Stdev** | 2.19                       | 1.11                          |"
   ],
   "id": "81494f0ca6c1a479"
  },
  {
   "metadata": {
    "ExecuteTime": {
     "end_time": "2025-03-12T06:21:24.545569Z",
     "start_time": "2025-03-12T06:21:24.544152Z"
    }
   },
   "cell_type": "code",
   "source": "",
   "id": "fe1d52eb57d54cca",
   "outputs": [],
   "execution_count": 20
  }
 ],
 "metadata": {
  "kernelspec": {
   "display_name": "Python 3",
   "language": "python",
   "name": "python3"
  },
  "language_info": {
   "codemirror_mode": {
    "name": "ipython",
    "version": 2
   },
   "file_extension": ".py",
   "mimetype": "text/x-python",
   "name": "python",
   "nbconvert_exporter": "python",
   "pygments_lexer": "ipython2",
   "version": "2.7.6"
  }
 },
 "nbformat": 4,
 "nbformat_minor": 5
}

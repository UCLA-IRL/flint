{
 "cells": [
  {
   "metadata": {},
   "cell_type": "markdown",
   "source": "# RDD Lineage Caching Microbenchmark",
   "id": "9cf2a7ce9b202d56"
  },
  {
   "cell_type": "code",
   "id": "initial_id",
   "metadata": {
    "collapsed": true,
    "ExecuteTime": {
     "end_time": "2025-03-12T20:08:38.051991Z",
     "start_time": "2025-03-12T20:08:38.044797Z"
    }
   },
   "source": [
    "import time\n",
    "from functools import wraps\n",
    "from typing import Callable, TypeVar, Any\n",
    "\n",
    "T = TypeVar('T')\n",
    "\n",
    "def time_function(func: Callable[..., T]) -> Callable[..., T]:\n",
    "    @wraps(func)\n",
    "    def wrapper(*args, **kwargs) -> T:\n",
    "        start_time = time.time()\n",
    "        result = func(*args, **kwargs)\n",
    "        end_time = time.time()\n",
    "        \n",
    "        print(f\"{func.__name__} executed in {end_time - start_time:.6f} seconds\")\n",
    "        return result\n",
    "    \n",
    "    return wrapper"
   ],
   "outputs": [],
   "execution_count": 1
  },
  {
   "metadata": {
    "ExecuteTime": {
     "end_time": "2025-03-12T20:08:39.664776Z",
     "start_time": "2025-03-12T20:08:39.396679Z"
    }
   },
   "cell_type": "code",
   "source": [
    "# IMPORTANT: This code assumes you've done the preparation-related steps in getting-started.ipynb\n",
    "\n",
    "from ndn_compute_client import NdnComputeClient\n",
    "client = NdnComputeClient('http://localhost:5214')"
   ],
   "id": "dea14613f9496a6f",
   "outputs": [],
   "execution_count": 2
  },
  {
   "metadata": {
    "ExecuteTime": {
     "end_time": "2025-03-12T20:09:35.317838Z",
     "start_time": "2025-03-12T20:09:34.122753Z"
    }
   },
   "cell_type": "code",
   "source": [
    "dataset = client.create_dataset(\"appA/events.log.jsonl\")\n",
    "dataset.transform(lambda df: df.apply(lambda row: sum([__import__(\"math\").sin(__import__(\"random\").random()) * __import__(\"math\").cos(__import__(\"random\").random()) for _ in range(333)]), axis=1)).cache()"
   ],
   "id": "290a89866846705c",
   "outputs": [
    {
     "data": {
      "text/plain": [
       "<ndn_compute_client.ndn_compute_client.NdnComputeClient.create_dataset.<locals>.Dataset at 0x107c04dd0>"
      ]
     },
     "execution_count": 4,
     "metadata": {},
     "output_type": "execute_result"
    }
   ],
   "execution_count": 4
  },
  {
   "metadata": {
    "ExecuteTime": {
     "end_time": "2025-03-12T20:10:59.517513Z",
     "start_time": "2025-03-12T20:10:59.506128Z"
    }
   },
   "cell_type": "code",
   "source": [
    "@time_function\n",
    "def fetch_without_intermediate_lineage():\n",
    "    dataset = client.create_dataset(\"appA/events.log.jsonl\")\n",
    "    big_op = dataset.transform(lambda df: df.apply(lambda row: sum([__import__(\"math\").sin(__import__(\"random\").random()) * __import__(\"math\").cos(__import__(\"random\").random()) for _ in range(333)]), axis=1))\n",
    "    lens = big_op.map(lambda r: len(str(r)))\n",
    "    df1 = lens.map(lambda r: r + 1).collect()\n",
    "    df2 = lens.map(lambda r: r + 2).collect()\n",
    "    print(df1.shape)\n",
    "    print(df2.shape)"
   ],
   "id": "2f908c6bc1651f4a",
   "outputs": [],
   "execution_count": 5
  },
  {
   "metadata": {
    "ExecuteTime": {
     "end_time": "2025-03-12T20:32:26.567014Z",
     "start_time": "2025-03-12T20:32:26.554483Z"
    }
   },
   "cell_type": "code",
   "source": [
    "@time_function\n",
    "def fetch_with_intermediate_lineage():\n",
    "    dataset = client.create_dataset(\"appA/events.log.jsonl\")\n",
    "    big_op = dataset.transform(lambda df: df.apply(lambda row: sum([__import__(\"math\").sin(__import__(\"random\").random()) * __import__(\"math\").cos(__import__(\"random\").random()) for _ in range(333)]), axis=1))\n",
    "    lens = big_op.map(lambda r: len(str(r))).cache()\n",
    "    df1 = lens.map(lambda r: r + 1).collect()\n",
    "    df2 = lens.map(lambda r: r + 2).collect()\n",
    "    print(df1.shape)\n",
    "    print(df2.shape)"
   ],
   "id": "f4de4c8ba05fed84",
   "outputs": [],
   "execution_count": 18
  },
  {
   "metadata": {
    "ExecuteTime": {
     "end_time": "2025-03-12T20:33:59.751714Z",
     "start_time": "2025-03-12T20:32:26.569714Z"
    }
   },
   "cell_type": "code",
   "source": [
    "# No Intermediate Cache\n",
    "fetch_without_intermediate_lineage()"
   ],
   "id": "968573bf13b9b78e",
   "outputs": [
    {
     "name": "stdout",
     "output_type": "stream",
     "text": [
      "(439417, 1)\n",
      "(439417, 1)\n",
      "fetch_without_intermediate_lineage executed in 93.137566 seconds\n"
     ]
    }
   ],
   "execution_count": 19
  },
  {
   "metadata": {
    "ExecuteTime": {
     "end_time": "2025-03-12T20:35:20.953420Z",
     "start_time": "2025-03-12T20:33:59.755503Z"
    }
   },
   "cell_type": "code",
   "source": [
    "# With Intermediate Cache\n",
    "fetch_with_intermediate_lineage()"
   ],
   "id": "ce737e06ba04defd",
   "outputs": [
    {
     "name": "stdout",
     "output_type": "stream",
     "text": [
      "(439417, 1)\n",
      "(439417, 1)\n",
      "fetch_with_intermediate_lineage executed in 81.193584 seconds\n"
     ]
    }
   ],
   "execution_count": 20
  },
  {
   "metadata": {},
   "cell_type": "markdown",
   "source": [
    "## Results:\n",
    "\n",
    "Note that I need to restart NFD between trials, so the above code isn't in a loop.\n",
    "\n",
    "|           | No intermediate cache | With intermediate cache |\n",
    "|-----------|-----------------------|-------------------------|\n",
    "| 1         | 93.005059             | 82.221597               |\n",
    "| 2         | 93.009149             | 81.884614               |\n",
    "| 3         | 93.138039             | 82.068494               |\n",
    "| 4         | 93.061103             | 80.967617               |\n",
    "| 5         | 93.137566             | 81.193584               |\n",
    "| **Mean**  | 93.07                 | 81.67                   |\n",
    "| **Stdev** | 0.07                  | 0.55                    |"
   ],
   "id": "81494f0ca6c1a479"
  },
  {
   "metadata": {
    "ExecuteTime": {
     "end_time": "2025-03-12T20:35:20.955453Z",
     "start_time": "2025-03-12T20:35:20.954127Z"
    }
   },
   "cell_type": "code",
   "source": "",
   "id": "fe1d52eb57d54cca",
   "outputs": [],
   "execution_count": 20
  }
 ],
 "metadata": {
  "kernelspec": {
   "display_name": "Python 3",
   "language": "python",
   "name": "python3"
  },
  "language_info": {
   "codemirror_mode": {
    "name": "ipython",
    "version": 2
   },
   "file_extension": ".py",
   "mimetype": "text/x-python",
   "name": "python",
   "nbconvert_exporter": "python",
   "pygments_lexer": "ipython2",
   "version": "2.7.6"
  }
 },
 "nbformat": 4,
 "nbformat_minor": 5
}
